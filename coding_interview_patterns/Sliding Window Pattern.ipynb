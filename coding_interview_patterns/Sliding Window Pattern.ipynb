{
 "cells": [
  {
   "cell_type": "markdown",
   "metadata": {},
   "source": [
    "# Pattern: Sliding Window\n",
    "\n",
    "## Introduction\n",
    "\n",
    "Question Pattern: \"Find/Calculate something among all the contiguous subarrays/sublists of a given size.\"\n",
    "\n",
    "**Example:**\n",
    "Given an array, find the average of all contiguous subarrays of size \"K\" in it.\n",
    "\n",
    "**Solution:**"
   ]
  },
  {
   "cell_type": "code",
   "execution_count": 8,
   "metadata": {},
   "outputs": [
    {
     "name": "stdout",
     "output_type": "stream",
     "text": [
      "[2.2, 2.8, 2.4, 3.6, 2.8]\n"
     ]
    }
   ],
   "source": [
    "a = [1, 3, 2, 6, -1, 4, 1, 8, 2]\n",
    "k = 5\n",
    "\n",
    "def average_of_k_elements(a, k):\n",
    "    current_sum = sum(a[0:k])\n",
    "    result = [current_sum/k]\n",
    "    for i in range(1, len(a)-k+1):\n",
    "        current_sum += (- a[i-1] + a[i+k-1])\n",
    "        result.append(current_sum/k)\n",
    "    return result\n",
    "        \n",
    "print(average_of_k_elements(a, k))"
   ]
  },
  {
   "cell_type": "markdown",
   "metadata": {},
   "source": [
    "The time complexity of this sliding window algorithms is $O(N)$."
   ]
  },
  {
   "cell_type": "markdown",
   "metadata": {},
   "source": [
    "## Maximum Sum Subarray of Size K (easy)\n",
    "\n",
    "* Given:\n",
    "  * array of positive numbers\n",
    "  * positive number $k$\n",
    "* Find:\n",
    "  * the maximum sum of any contiguous subarray of size $k$."
   ]
  },
  {
   "cell_type": "code",
   "execution_count": 4,
   "metadata": {},
   "outputs": [],
   "source": [
    "def max_sum_subarray_of_size_k(a, k):\n",
    "    max_sum = sum(a[:k])\n",
    "    window_sum = max_sum\n",
    "    for i in range(1, len(a) - k + 1):\n",
    "        window_sum += (- a[i-1] + a[i+k-1])\n",
    "        max_sum = max(window_sum, max_sum)\n",
    "    return max_sum\n",
    "\n",
    "\n",
    "assert max_sum_subarray_of_size_k([2, 3, 4, 1, 5], 2) == 7\n",
    "assert max_sum_subarray_of_size_k([2, 1, 5, 1, 3, 2], 3) == 9"
   ]
  },
  {
   "cell_type": "markdown",
   "metadata": {},
   "source": [
    "* Time complexity: $O(N)$.\n",
    "* Space complexity: $O(1)$."
   ]
  },
  {
   "cell_type": "markdown",
   "metadata": {},
   "source": [
    "## Smallest Subarray with a given sum (easy)\n",
    "* Given:\n",
    "  * array of positive numbers\n",
    "  * positive number $S$\n",
    "* Find:\n",
    "  * length of the smallest contigous subarray whose sum is $\\geq S$.\n",
    "  * return $0$ is no such subarray exists."
   ]
  },
  {
   "cell_type": "code",
   "execution_count": 33,
   "metadata": {},
   "outputs": [],
   "source": [
    "def smallest_subarray_with_given_sum(a, S):\n",
    "    min_len_subarray = None\n",
    "    window_sum = a[0]\n",
    "    i, j = 0, 0\n",
    "    while j < len(a):\n",
    "        if a[j] >= S:\n",
    "            return 1\n",
    "        if window_sum >= S:\n",
    "            if not min_len_subarray:\n",
    "                min_len_subarray = j-i+1\n",
    "            else:\n",
    "                min_len_subarray = min(min_len_subarray, j-i+1)\n",
    "            i += 1\n",
    "            window_sum -= a[i-1]\n",
    "        elif window_sum < S:\n",
    "            j += 1\n",
    "            if j < len(a):\n",
    "                window_sum += a[j]\n",
    "        else:\n",
    "            window_sum -= a[i]\n",
    "            i += 1\n",
    "    return min_len_subarray if min_len_subarray else 0\n",
    "            \n",
    "assert smallest_subarray_with_given_sum([2, 1, 5, 2, 3, 2], 7) == 2\n",
    "assert smallest_subarray_with_given_sum([2, 1, 5, 2, 8], 7) == 1\n",
    "assert smallest_subarray_with_given_sum([3, 4, 1, 1, 6], 8) == 3"
   ]
  },
  {
   "cell_type": "markdown",
   "metadata": {},
   "source": [
    "* Time complexity: $O(N)$\n",
    "* Space complexity: $O(1)$"
   ]
  },
  {
   "cell_type": "markdown",
   "metadata": {},
   "source": [
    "## Longest Substring with K Distinct Characters (medium)\n",
    "\n",
    "* Given:\n",
    "  * string\n",
    "* Find:\n",
    "  * length of the longest substring with no more than K distinct characters"
   ]
  },
  {
   "cell_type": "code",
   "execution_count": 48,
   "metadata": {},
   "outputs": [],
   "source": [
    "from collections import defaultdict\n",
    "\n",
    "def longest_substring_with_k_distinct(s, k):\n",
    "    d = defaultdict(int)\n",
    "    i, j = 0, 0\n",
    "    longest_ss = 0\n",
    "    # print(d.items(), i, j, longest_ss)\n",
    "    while j < len(s):\n",
    "        ch = s[j]\n",
    "        if len(d) < k or (len(d) == k and ch in d):\n",
    "            d[ch] += 1\n",
    "            j += 1\n",
    "        else:\n",
    "            d[s[i]] -= 1\n",
    "            if d[s[i]] == 0:\n",
    "                del d[s[i]]\n",
    "            i += 1\n",
    "        longest_ss = max(longest_ss, j - i)\n",
    "        # print(d.items(), i, j, longest_ss)\n",
    "    return longest_ss\n",
    "            \n",
    "            \n",
    "    \n",
    "\n",
    "# Expected: 4. The longest substring with no more than '2' distinct\n",
    "# characters is 'araa'\n",
    "assert longest_substring_with_k_distinct('araaci', k=2) == 4\n",
    "assert longest_substring_with_k_distinct('araaci', k=1) == 2\n",
    "assert longest_substring_with_k_distinct('cbbebi', k=3) == 5"
   ]
  },
  {
   "cell_type": "markdown",
   "metadata": {},
   "source": []
  },
  {
   "cell_type": "markdown",
   "metadata": {},
   "source": [
    "## Fruits into Baskets (medium)"
   ]
  },
  {
   "cell_type": "markdown",
   "metadata": {},
   "source": [
    "## No-repeat Substring (hard)"
   ]
  },
  {
   "cell_type": "markdown",
   "metadata": {},
   "source": [
    "## Longest Substring with Same Letters after Replacement (hard)"
   ]
  },
  {
   "cell_type": "markdown",
   "metadata": {},
   "source": [
    "## Longest Subarray with Ones after Replacement (hard)"
   ]
  },
  {
   "cell_type": "markdown",
   "metadata": {},
   "source": [
    "## Problem Challenge 1"
   ]
  },
  {
   "cell_type": "markdown",
   "metadata": {},
   "source": [
    "## Problem Challenge 2"
   ]
  },
  {
   "cell_type": "markdown",
   "metadata": {},
   "source": [
    "## Problem Challenge 3"
   ]
  },
  {
   "cell_type": "markdown",
   "metadata": {},
   "source": [
    "## Problem Challenge 4"
   ]
  },
  {
   "cell_type": "code",
   "execution_count": null,
   "metadata": {},
   "outputs": [],
   "source": []
  }
 ],
 "metadata": {
  "kernelspec": {
   "display_name": "Python 3",
   "language": "python",
   "name": "python3"
  },
  "language_info": {
   "codemirror_mode": {
    "name": "ipython",
    "version": 3
   },
   "file_extension": ".py",
   "mimetype": "text/x-python",
   "name": "python",
   "nbconvert_exporter": "python",
   "pygments_lexer": "ipython3",
   "version": "3.5.6"
  }
 },
 "nbformat": 4,
 "nbformat_minor": 2
}
