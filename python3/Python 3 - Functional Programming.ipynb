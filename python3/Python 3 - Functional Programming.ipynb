{
 "cells": [
  {
   "cell_type": "markdown",
   "metadata": {},
   "source": [
    "# Python 3: Functional Programming"
   ]
  },
  {
   "cell_type": "markdown",
   "metadata": {},
   "source": [
    "## First-Class Functions\n",
    "A first-class object is an object that can be:\n",
    "* Created at runtime (assigned to a variable)\n",
    "* Stored in a data structure\n",
    "* Passed as an argument to another function\n",
    "* Returned as a value from another function\n",
    "\n",
    "Examples for first-class objects:\n",
    "* int\n",
    "* string\n",
    "* functions\n",
    "\n",
    "### Higher-order Function\n",
    "A function that takes a function as an argument or returns a function is called a higher-order function.\n",
    "\n",
    "In the following, `greeting()` and `print()` are higher-order functions:"
   ]
  },
  {
   "cell_type": "code",
   "execution_count": 1,
   "metadata": {},
   "outputs": [
    {
     "name": "stdout",
     "output_type": "stream",
     "text": [
      "Hello there\n",
      "[1, <function hello at 0x7fa7617fd7b8>, 'interesting']\n",
      "Hello there, World!\n"
     ]
    }
   ],
   "source": [
    "def hello():\n",
    "    return 'Hello there'\n",
    "\n",
    "# Assign a function as an object\n",
    "hi = hello\n",
    "print(hi())\n",
    "\n",
    "# Store a function in a list\n",
    "a = [1, hi, 'interesting']\n",
    "print(a)\n",
    "\n",
    "# Return a function from another function\n",
    "def hello_world():\n",
    "    return hello() + ', World!'\n",
    "\n",
    "print(hello_world())"
   ]
  },
  {
   "cell_type": "markdown",
   "metadata": {},
   "source": [
    "### Nested Functions\n",
    "A function defined in another function is called a nested or inner function. Each time we call the outer function, it defines the inner function."
   ]
  },
  {
   "cell_type": "code",
   "execution_count": 2,
   "metadata": {},
   "outputs": [
    {
     "name": "stdout",
     "output_type": "stream",
     "text": [
      "15\n"
     ]
    }
   ],
   "source": [
    "def add_5(num):\n",
    "    def adding_5(x):\n",
    "        return x + 5\n",
    "    return adding_5(num)\n",
    "\n",
    "n = 10\n",
    "n_plus_5 = add_5(n)\n",
    "print(n_plus_5)"
   ]
  },
  {
   "cell_type": "markdown",
   "metadata": {},
   "source": [
    "## Functions with Optional Arguments\n",
    "### The `*args` and `**kwargs` parameters\n",
    "The `args` and `kwargs` parameters allow a function to accept optional arguments.\n",
    "\n",
    "* The keyword `args` means positional arguments\n",
    "  * `*args` collects all positional arguments in form of a tuple\n",
    "* The keyword `kwargs` means keyword arguments\n",
    "  * `**kwargs` collects all keyword arguments as a dictionary\n",
    "  \n",
    "**Note:** The actual syntax is only `*` and `**`. Calling them with `args` and `kwargs` is just a convention."
   ]
  },
  {
   "cell_type": "code",
   "execution_count": 9,
   "metadata": {},
   "outputs": [
    {
     "name": "stdout",
     "output_type": "stream",
     "text": [
      "--- Executing the function! ---\n",
      "Kat\n",
      "--- Executing the function! ---\n",
      "likes math\n",
      "(1, 2, 3, 4)\n",
      "--- Executing the function! ---\n",
      "and coding\n",
      "(5, 6)\n",
      "{'random': 'text', 'more_numbers': 'nope'}\n"
     ]
    }
   ],
   "source": [
    "def test_args_and_kwargs(fixed, *args, **kwargs):\n",
    "    print('--- Executing the function! ---')\n",
    "    print(fixed)\n",
    "    if args:\n",
    "        print(args)\n",
    "    if kwargs:\n",
    "        print(kwargs)\n",
    "        \n",
    "test_args_and_kwargs('Kat')\n",
    "test_args_and_kwargs('likes math', 1, 2, 3, 4)\n",
    "test_args_and_kwargs('and coding', 5, 6, more_numbers='nope', random='text')\n"
   ]
  },
  {
   "cell_type": "markdown",
   "metadata": {},
   "source": [
    "## Decorators\n",
    "\n",
    "A decorator is a callable that permits simple modifications to other callable objects.\n",
    "\n",
    "Examples of callable objects in Python:\n",
    "* functions\n",
    "* methods\n",
    "* classes"
   ]
  },
  {
   "cell_type": "code",
   "execution_count": 20,
   "metadata": {},
   "outputs": [
    {
     "name": "stdout",
     "output_type": "stream",
     "text": [
      "KAT!\n",
      "HI, KAT\n",
      "hi, BRIAN\n"
     ]
    }
   ],
   "source": [
    "def first_decorator(f):\n",
    "    def to_upper():\n",
    "        return f().upper()\n",
    "    return to_upper\n",
    "\n",
    "def second_decorator(f):\n",
    "    def say_hi():\n",
    "        return 'hi, ' + f()\n",
    "    return say_hi\n",
    "        \n",
    "\n",
    "# Decorate (wrap) f with my_decorator\n",
    "def f():\n",
    "    return 'Kat!'\n",
    "\n",
    "f = first_decorator(f)\n",
    "print(f())\n",
    "\n",
    "# Instead of all of the above, we can write:\n",
    "@first_decorator\n",
    "@second_decorator\n",
    "def f():\n",
    "    return 'Kat'\n",
    "\n",
    "@second_decorator\n",
    "@first_decorator\n",
    "def g():\n",
    "    return 'Brian'\n",
    "\n",
    "print(f())\n",
    "print(g())"
   ]
  },
  {
   "cell_type": "markdown",
   "metadata": {},
   "source": [
    "**Note:** The function returned by the decorator to modify the behavior of the original function is a closure."
   ]
  },
  {
   "cell_type": "markdown",
   "metadata": {},
   "source": [
    "### Decorators with arguments\n",
    "`args` and `kwargs` are used to implement decorators with arguments.\n",
    "\n",
    "```python\n",
    "def decorator(f):\n",
    "    def wrapper(*args, **kwargs):\n",
    "        return f(*args, **kwargs)\n",
    "    return wrapper\n",
    "```"
   ]
  },
  {
   "cell_type": "code",
   "execution_count": 28,
   "metadata": {},
   "outputs": [
    {
     "name": "stdout",
     "output_type": "stream",
     "text": [
      "81\n",
      "100\n"
     ]
    }
   ],
   "source": [
    "def square(f):\n",
    "    def wrapper(*args, **kwargs):\n",
    "        result = f(*args, **kwargs)\n",
    "        return result * result\n",
    "    return wrapper\n",
    "\n",
    "@square\n",
    "def add(x, y):\n",
    "    return x + y\n",
    "\n",
    "@square\n",
    "def add_multiple(x, y, z=5):\n",
    "    return x + y + z\n",
    "\n",
    "print(add(4, 5))\n",
    "print(add_multiple(4, 1))"
   ]
  },
  {
   "cell_type": "markdown",
   "metadata": {},
   "source": [
    "If we know the exact number of arguments, we can define a decorator without using `args` or `kwargs`. \n",
    "\n",
    "```python\n",
    "def decorator(f):\n",
    "    def wrapper(arg1, arg2):\n",
    "        return f(arg1, arg2)\n",
    "    return wrapper\n",
    "```\n",
    "\n",
    "### Debugging decorators\n",
    "When a decorator wraps a function, the metadata attached to a function, e.g. the name, docstring, and the parameters of the original function are hidden by the wrapper:\n",
    "* `decorated_function_with_arguments.__name__` will print the name of the wrapper function\n",
    "* `decorated_function_with_arguments.__doc__` will print the docstring of the wrapper function\n",
    "\n",
    "This makes debugging challenging.\n",
    "\n",
    "The `functools.wraps` decorator copies the metadata from the original function to the decorated closure.\n",
    "\n",
    "```python\n",
    "\n",
    "```"
   ]
  },
  {
   "cell_type": "code",
   "execution_count": 30,
   "metadata": {},
   "outputs": [
    {
     "name": "stdout",
     "output_type": "stream",
     "text": [
      "HI, STRANGER\n",
      "hello\n",
      "This function yells hi to a stranger\n"
     ]
    }
   ],
   "source": [
    "import functools\n",
    "\n",
    "def decorator(f):\n",
    "    @functools.wraps(f)\n",
    "    def wrapper():\n",
    "        return f().upper()\n",
    "    return wrapper\n",
    "\n",
    "@decorator\n",
    "def hello():\n",
    "    \"This function yells hi to a stranger\"\n",
    "    return \"hi, stranger\"\n",
    "\n",
    "print(hello())\n",
    "print(hello.__name__)\n",
    "print(hello.__doc__)"
   ]
  },
  {
   "cell_type": "markdown",
   "metadata": {},
   "source": [
    "## Closures\n",
    "Nested functions can access variables of the enclosing scope.\n",
    "\n",
    "Closures are functions that remember the variables in the enclosing scope, even if they're not in the memory."
   ]
  },
  {
   "cell_type": "code",
   "execution_count": 31,
   "metadata": {},
   "outputs": [
    {
     "name": "stdout",
     "output_type": "stream",
     "text": [
      "5\n"
     ]
    }
   ],
   "source": [
    "def outer(parameter):\n",
    "    def inner():\n",
    "        print(parameter)\n",
    "    return inner\n",
    "\n",
    "f = outer(5)\n",
    "f()"
   ]
  },
  {
   "cell_type": "markdown",
   "metadata": {},
   "source": [
    "## Challenge: Decode the Message\n",
    "Implement a function `clean_message` decorated by `decode`.\n",
    "\n",
    "`clean_message` should:\n",
    "* filter out all the characters that are not digits\n",
    "\n",
    "`decode` should:\n",
    "* sort the digits in the ascending order\n",
    "* map the digits to their actual values\n",
    "\n",
    "Input:\n",
    "* string\n",
    "\n",
    "Output:\n",
    "* string\n",
    "\n",
    "Sample input: '`-hjefh83 njdf83 232'\n",
    "\n",
    "Sample output: '7766611'"
   ]
  },
  {
   "cell_type": "code",
   "execution_count": 48,
   "metadata": {},
   "outputs": [
    {
     "name": "stdout",
     "output_type": "stream",
     "text": [
      "7766611\n"
     ]
    }
   ],
   "source": [
    "def decode(f):\n",
    "    def wrapper(s):\n",
    "        s = f(s)\n",
    "        s = sorted(s)\n",
    "        return ''.join(list(map(lambda n: str(9 - int(n)), s)))\n",
    "    return wrapper\n",
    "\n",
    "@decode\n",
    "def clean_message(s):\n",
    "    return list(filter(lambda s: s.isnumeric(), s))\n",
    "\n",
    "print(clean_message('`-hjefh83 njdf83 232'))"
   ]
  },
  {
   "cell_type": "markdown",
   "metadata": {},
   "source": [
    "## Anonymous Functions\n",
    "\n",
    "Anonymous functions allow you to create functions with no names. They are a single-expression function. "
   ]
  },
  {
   "cell_type": "code",
   "execution_count": 50,
   "metadata": {},
   "outputs": [
    {
     "name": "stdout",
     "output_type": "stream",
     "text": [
      "15\n",
      "20\n"
     ]
    }
   ],
   "source": [
    "x = lambda a: a+5\n",
    "\n",
    "print(x(10))\n",
    "\n",
    "print((lambda a: a+10)(10))"
   ]
  },
  {
   "cell_type": "markdown",
   "metadata": {},
   "source": [
    "## Challenge: Square the Factorials\n",
    "Implement the function `square_factorial` that takes `n` as a parameter and squares the factorials of the first `n` numbers.\n",
    "\n",
    "Input:\n",
    "* int\n",
    "\n",
    "Output:\n",
    "* list"
   ]
  },
  {
   "cell_type": "code",
   "execution_count": 57,
   "metadata": {},
   "outputs": [
    {
     "name": "stdout",
     "output_type": "stream",
     "text": [
      "[1, 1, 4, 36, 576]\n",
      "[1, 1, 4, 36, 576]\n"
     ]
    }
   ],
   "source": [
    "def factorial(n):\n",
    "    if n == 0:\n",
    "        return 1\n",
    "    return n * factorial(n-1)\n",
    "\n",
    "def square_factorial(n):\n",
    "    return [f * f for f in [factorial(n) for n in range(n)]]\n",
    "\n",
    "print(square_factorial(5))\n",
    "\n",
    "# alternative solution:\n",
    "def square_factorial(n):\n",
    "    return [(lambda a : a*a)(x) for x in (list(map(factorial, range(n))))]\n",
    "\n",
    "print(square_factorial(5))"
   ]
  },
  {
   "cell_type": "markdown",
   "metadata": {},
   "source": [
    "## Functional Behavior of an Object\n",
    "\n",
    "Details on callable objects in Python.\n",
    "\n",
    "Functions are objects, but not every object is a function. \n",
    "\n",
    "### Callable objects\n",
    "Callable objects are objects that can be called like a function (using `()`) and can be passed as an argument in a function call. \n",
    "\n",
    "This is made possible with the `__call__` method."
   ]
  },
  {
   "cell_type": "code",
   "execution_count": 59,
   "metadata": {},
   "outputs": [
    {
     "name": "stdout",
     "output_type": "stream",
     "text": [
      "Python 3: An In-Depth Exploration is called\n",
      "True\n"
     ]
    }
   ],
   "source": [
    "class Course:\n",
    "    def __init__(self, name):\n",
    "        self.name = name\n",
    "    \n",
    "    def __call__(self):\n",
    "        print(self.name + ' is called')\n",
    "        \n",
    "c1 = Course('Python 3: An In-Depth Exploration')\n",
    "c1()\n",
    "print(callable(c1))"
   ]
  },
  {
   "cell_type": "markdown",
   "metadata": {},
   "source": [
    "By implementing the method `__call__`, every object of type `Course` is callable. \n",
    "\n",
    "### The `callable()` function\n",
    "The `callable()` function takes a single object as a parameter and returns `True` if the object is callable; otherwise `False`."
   ]
  },
  {
   "cell_type": "markdown",
   "metadata": {},
   "source": [
    "## Quiz: Functional Programming"
   ]
  },
  {
   "cell_type": "markdown",
   "metadata": {},
   "source": [
    "* First-class functions allow us to abstract away and pass around the behavior in our programs.\n",
    "* Closures can be nested, and they can capture and carry some of the parent function's state with them. "
   ]
  }
 ],
 "metadata": {
  "kernelspec": {
   "display_name": "Python 3",
   "language": "python",
   "name": "python3"
  },
  "language_info": {
   "codemirror_mode": {
    "name": "ipython",
    "version": 3
   },
   "file_extension": ".py",
   "mimetype": "text/x-python",
   "name": "python",
   "nbconvert_exporter": "python",
   "pygments_lexer": "ipython3",
   "version": "3.5.6"
  }
 },
 "nbformat": 4,
 "nbformat_minor": 2
}
