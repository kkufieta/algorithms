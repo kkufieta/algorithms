{
 "cells": [
  {
   "cell_type": "markdown",
   "metadata": {},
   "source": [
    "# Python 3: Built-in Data Structures"
   ]
  },
  {
   "cell_type": "markdown",
   "metadata": {},
   "source": [
    "## List Comprehensions\n",
    "\n",
    "Filtering with list comprehensions:"
   ]
  },
  {
   "cell_type": "code",
   "execution_count": 1,
   "metadata": {},
   "outputs": [
    {
     "name": "stdout",
     "output_type": "stream",
     "text": [
      "[2, 4, 6, 8, 10]\n",
      "[2, 4, 6, 8, 10]\n"
     ]
    }
   ],
   "source": [
    "numbers = [1,2,3,4,5,6,7,8,9,10]\n",
    "even = [number for number in numbers if number %2 ==0] # Filtering even numbers\n",
    "even_filter = list(filter(lambda n : not n%2, numbers))\n",
    "print(even)\n",
    "print(even_filter)"
   ]
  },
  {
   "cell_type": "markdown",
   "metadata": {},
   "source": [
    "Creating tuples with list comprehensions:"
   ]
  },
  {
   "cell_type": "code",
   "execution_count": 2,
   "metadata": {},
   "outputs": [
    {
     "name": "stdout",
     "output_type": "stream",
     "text": [
      "[(2, 1), (2, 3), (2, 5), (2, 7), (2, 9), (4, 1), (4, 3), (4, 5), (4, 7), (4, 9), (6, 1), (6, 3), (6, 5), (6, 7), (6, 9), (8, 1), (8, 3), (8, 5), (8, 7), (8, 9), (10, 1), (10, 3), (10, 5), (10, 7), (10, 9)]\n"
     ]
    }
   ],
   "source": [
    "even = [2,4,6,8,10]\n",
    "odd = [1,3,5,7,9]\n",
    "\n",
    "# Pairing every number from even with every number from odd\n",
    "pair = [(number1,number2) for number1 in even for number2 in odd]\n",
    "\n",
    "print(pair)"
   ]
  },
  {
   "cell_type": "markdown",
   "metadata": {},
   "source": [
    "## Tuples\n",
    "Tuples are immutable lists.\n",
    "\n",
    "Unpacking tuples:"
   ]
  },
  {
   "cell_type": "code",
   "execution_count": 3,
   "metadata": {},
   "outputs": [
    {
     "name": "stdout",
     "output_type": "stream",
     "text": [
      "banana\n",
      "apple\n"
     ]
    }
   ],
   "source": [
    "fruits = [('banana', 'yellow', 10), ('apple', 'red', 19)]\n",
    "\n",
    "# Unpacking the tuple with a for loop\n",
    "for name, _, _ in fruits:\n",
    "    print(name)"
   ]
  },
  {
   "cell_type": "markdown",
   "metadata": {},
   "source": [
    "Unpacking using the `*` operator:"
   ]
  },
  {
   "cell_type": "code",
   "execution_count": 4,
   "metadata": {},
   "outputs": [
    {
     "name": "stdout",
     "output_type": "stream",
     "text": [
      "3\n"
     ]
    }
   ],
   "source": [
    "# Function returning the sum of its arguments\n",
    "def add(a, b):\n",
    "  return a+b\n",
    "\n",
    "numbers = (1, 2)\n",
    "result = add (*numbers) # Unpacking numbers with * : add(1,2)\n",
    "print(result)"
   ]
  },
  {
   "cell_type": "markdown",
   "metadata": {},
   "source": [
    "## Challenge: Read the Line Segments\n",
    "\n",
    "Given a list of nested tuples of line segments:\n",
    "`[..., (ID, (x1, y1), (x2, y2)), ...]`\n",
    "\n",
    "find all line segments that only lie within the $2^{nd}$ quadrant. Return their `ID`s in a list.\n",
    "\n",
    "Note: The second quadrant holds values for $x \\le 0$ and $y \\ge 0$.\n",
    "\n",
    "Assumption: No line segment holds `(0, 0)` as an ending point. "
   ]
  },
  {
   "cell_type": "code",
   "execution_count": 5,
   "metadata": {},
   "outputs": [
    {
     "data": {
      "text/plain": [
       "[2]"
      ]
     },
     "execution_count": 5,
     "metadata": {},
     "output_type": "execute_result"
    }
   ],
   "source": [
    "def filter_line_segments(lines):\n",
    "    return [ID for ID, (x1, y1), (x2, y2) in lines if \n",
    "            x1 <= 0 and y1 >= 0 and \n",
    "            x2 <= 0 and y2 >= 0]\n",
    "\n",
    "# Given the following lines, the expected output is: [2]\n",
    "lines = [(1, (2, 4), (1, 9)), \n",
    "         (2, (-2, 4), (-1, 9)), \n",
    "         (3, (-2, -4), (-1, -9))]\n",
    "\n",
    "filter_line_segments(lines)"
   ]
  },
  {
   "cell_type": "code",
   "execution_count": 6,
   "metadata": {},
   "outputs": [],
   "source": [
    "assert filter_line_segments([(1, (-2, 10), (4, -3)),\n",
    "                             (2, (-2, 1), (-9, 2)),\n",
    "                             (3, (1, 1), (4, -5)),\n",
    "                             (4, (-3, 3), (2, -4))]) == [2]\n",
    "assert filter_line_segments([(1, (-2, 1), (-6, 8)),\n",
    "                             (2, (-9, 2), (-7, 1)),\n",
    "                             (3, (-2, 1), (-5, 9)),\n",
    "                             (4, (-7, 8), (-1, 9))]) == [1,2,3,4]\n",
    "assert filter_line_segments([(1, (1, 2), (3, 1))]) == []"
   ]
  },
  {
   "cell_type": "markdown",
   "metadata": {},
   "source": [
    "## Namedtuple: An Extension of Tuple\n",
    "\n",
    "The `namedtuple` is an extended version of the built-in tuple sequence. It is immutable. \n",
    "\n",
    "Let's explore why we need a `namedtuple` data structure in addition to the regular `tuple` data structure.\n",
    "\n",
    "### Limitations of  tuples\n",
    "Characteristics of tuples:\n",
    "* We can only access data from a tuple by using an index.\n",
    "* Tuples don't guarantee that the data they hold are of the same type, which can make debugging difficult.\n",
    "\n",
    "`namedtuple` allow us to use human-readable identifiers to access fields. Define it like this:\n",
    "\n",
    "```python\n",
    "my_named_tuple = namedtuple(typename, fieldnames)\n",
    "```"
   ]
  },
  {
   "cell_type": "code",
   "execution_count": 7,
   "metadata": {},
   "outputs": [
    {
     "name": "stdout",
     "output_type": "stream",
     "text": [
      "Fruit(name='orange', color='orange', price=1.5)\n",
      "Fruit(name='pineapple', color='brown', price=4)\n",
      "\n",
      "-- Access field names directly --\n",
      "orange orange 1.5\n",
      "pineapple brown 4\n",
      "\n",
      "-- Access fields using indices --\n",
      "orange orange 1.5\n",
      "pineapple brown 4\n"
     ]
    }
   ],
   "source": [
    "from collections import namedtuple\n",
    "\n",
    "Fruit = namedtuple('Fruit', 'name color price')\n",
    "\n",
    "# Create objects of type Fruit\n",
    "fruit_1 = Fruit('orange', 'orange', 1.50)\n",
    "fruit_2 = Fruit('pineapple', 'brown', 4)\n",
    "\n",
    "print(fruit_1)\n",
    "print(fruit_2)\n",
    "\n",
    "print(\"\\n-- Access field names directly --\")\n",
    "print(fruit_1.name, fruit_1.color, fruit_1.price)\n",
    "print(fruit_2.name, fruit_2.color, fruit_2.price)\n",
    "\n",
    "print(\"\\n-- Access fields using indices --\")\n",
    "print(fruit_1[0], fruit_1[1], fruit_1[2])\n",
    "print(fruit_2[0], fruit_2[1], fruit_2[2])"
   ]
  },
  {
   "cell_type": "markdown",
   "metadata": {},
   "source": [
    "Since we can still access the values within a `namedtuple` with indices, the unpacking methods do still work.\n",
    "\n",
    "### `namedtuple` methods and properties\n",
    "* `_fields` retrieves the name of the fields\n",
    "* `_make(iterable)` creates an instance using the iterable of our `namedtuple` type\n",
    "  * Alternatively, we can use the `*` operator, e.g. `Fruit(*iterable)`\n",
    "* `_asdict` returns a dictionary that maps field names to their values\n",
    "* `_replace(**kwargs)` updates the value of a field"
   ]
  },
  {
   "cell_type": "code",
   "execution_count": 8,
   "metadata": {},
   "outputs": [
    {
     "name": "stdout",
     "output_type": "stream",
     "text": [
      "('name', 'color', 'price')\n",
      "Fruit(name='banana', color='yellow', price=1.0)\n",
      "Fruit(name='cherry', color='red', price=5.99)\n",
      "OrderedDict([('name', 'cherry'), ('color', 'red'), ('price', 5.99)])\n",
      "Fruit(name='cherry', color='red', price=3.05)\n"
     ]
    }
   ],
   "source": [
    "# Print the field names\n",
    "print(Fruit._fields)\n",
    "\n",
    "# Create a Fruit instance from an interable\n",
    "iterable = ['banana', 'yellow', 1.0]\n",
    "banana = Fruit._make(iterable)\n",
    "print(banana)\n",
    "\n",
    "# Alternatively, use the * operator\n",
    "iterable = ['cherry', 'red', 5.99]\n",
    "cherry = Fruit(*iterable)\n",
    "print(cherry)\n",
    "\n",
    "# Create a dictionary that maps the field names to their values\n",
    "cherry_dict = cherry._asdict()\n",
    "print(cherry_dict)\n",
    "\n",
    "# Update the price of the cherry\n",
    "cheaper_cherry = cherry._replace(price=3.05)\n",
    "print(cheaper_cherry)"
   ]
  },
  {
   "cell_type": "markdown",
   "metadata": {},
   "source": [
    "Namedtuples are a shortcut to defining an immutable class in Python manually."
   ]
  },
  {
   "cell_type": "markdown",
   "metadata": {},
   "source": [
    "## Stacks & Queues\n",
    "\n",
    "* Stack: LIFO, push, pop\n",
    "* Queue: FIFO, enqueue, dequeue\n",
    "\n",
    "### Using List\n",
    "Use `append()` and `pop()` to implement a stack. It leads to an amortized time of $O(1)$.\n",
    "\n",
    "It would make a poor choice for a queue, though, leading to $O(n)$. We'd use `append()` and `pop(0)` for that poor decision.\n",
    "\n",
    "_Note:_ Popping from an empty list returns an error.\n",
    "\n",
    "### Using `collections.deque`\n",
    "`deque` is like a double-ended queue that lets you add or remove elements from either end. It takes $O(1)$ time for both operations, whether it's a stack or a queue implementation.\n",
    "\n",
    "The backend implementation of `deque` is a doubly-linked list, which is why random access in the worst case is $O(n)$ unlike the list.\n",
    "\n",
    "* Stack:\n",
    "  * use `append()` and `pop()`\n",
    "* Queue:\n",
    "  * use `append()` and `popleft()`"
   ]
  },
  {
   "cell_type": "code",
   "execution_count": 9,
   "metadata": {},
   "outputs": [
    {
     "name": "stdout",
     "output_type": "stream",
     "text": [
      "Stack:\n",
      "deque(['a', 'b', 'c'])\n",
      "deque(['a', 'b'])\n",
      "\n",
      "Queue:\n",
      "deque(['a', 'b', 'c'])\n",
      "deque(['b', 'c'])\n"
     ]
    }
   ],
   "source": [
    "from collections import deque\n",
    "\n",
    "stack = deque()\n",
    "queue = deque()\n",
    "\n",
    "print(\"Stack:\")\n",
    "# Push elements in stack\n",
    "stack.append('a')\n",
    "stack.append('b')\n",
    "stack.append('c')\n",
    "print(stack)\n",
    "\n",
    "# Pop element from stack\n",
    "stack.pop()\n",
    "print(stack)\n",
    "\n",
    "print(\"\\nQueue:\")\n",
    "# Enqueue element in queue\n",
    "queue.append('a')\n",
    "queue.append('b')\n",
    "queue.append('c')\n",
    "print(queue)\n",
    "\n",
    "# Dequeue element from queue\n",
    "queue.popleft()\n",
    "print(queue)"
   ]
  },
  {
   "cell_type": "markdown",
   "metadata": {},
   "source": [
    "## Challenge: Prefix to Postfix Conversion\n",
    "\n",
    "Write a function that takes a prefix expression and converts it to a postfix expressoin using a stack.\n",
    "\n",
    "For example:\n",
    "* Expression: $A+B$\n",
    "* Prefix expression: $+AB$\n",
    "* Postfix expression: $AB+$\n",
    "\n",
    "More examples:\n",
    "* $A + B$\n",
    "  * $+AB$\n",
    "  * $AB+$\n",
    "* $(A+B)*(C-D)$\n",
    "  * $*+AB - CD$\n",
    "  * $AB+CD-*$\n",
    "* $(A-(B/C))*((A/K)-L)$\n",
    "  * $*-A/BC-/AKL$\n",
    "  * $ABC/-AK/L-*$"
   ]
  },
  {
   "cell_type": "code",
   "execution_count": 10,
   "metadata": {},
   "outputs": [
    {
     "name": "stdout",
     "output_type": "stream",
     "text": [
      "--\n",
      "+AB  ==>  AB+  |  AB+\n",
      "--\n",
      "*+AB-CD  ==>  AB+CD-*  |  AB+CD-*\n",
      "--\n",
      "*-A/BC-/AKL  ==>  ABC/-AK/L-*  |  ABC/-AK/L-*\n"
     ]
    }
   ],
   "source": [
    "from collections import deque\n",
    "\n",
    "def postfix(prefix):\n",
    "    stack = deque()\n",
    "    operators = set(['+', '-', '*', '/'])\n",
    "    for ch in prefix[::-1]:\n",
    "        if ch in operators:\n",
    "            stack.append(''.join([stack.pop(), stack.pop(), ch]))\n",
    "        else:\n",
    "            stack.append(ch)\n",
    "            \n",
    "    return stack.pop()\n",
    "\n",
    "\n",
    "prefixes = ['+AB', '*+AB-CD', '*-A/BC-/AKL']\n",
    "postfixes = ['AB+', 'AB+CD-*', 'ABC/-AK/L-*']\n",
    "\n",
    "for pre, post in zip(prefixes, postfixes):\n",
    "    print('--')\n",
    "    pf = postfix(pre)\n",
    "    print(pre, ' ==> ', post, ' | ', pf)\n",
    "    assert post == pf\n"
   ]
  },
  {
   "cell_type": "markdown",
   "metadata": {},
   "source": [
    "## Sets\n",
    "A set is a mutable and unordered collection of items that doesn't allow duplicates.\n",
    "\n",
    "Useful operations on sets:\n",
    "* intersection\n",
    "* union"
   ]
  },
  {
   "cell_type": "code",
   "execution_count": 11,
   "metadata": {},
   "outputs": [
    {
     "name": "stdout",
     "output_type": "stream",
     "text": [
      "set1 =  {1, 2, 3, 4, 5, 6, 7, 11}\n",
      "set2 =  {5, 6, 7, 8, 9, 10}\n",
      "Union =  {1, 2, 3, 4, 5, 6, 7, 8, 9, 10, 11}\n",
      "Intersection =  {5, 6, 7}\n"
     ]
    }
   ],
   "source": [
    "set1 = {1, 2, 3, 4, 5, 6, 7}\n",
    "set2 = {5, 6, 7, 8, 9, 10}\n",
    "\n",
    "set1.add(11)\n",
    "\n",
    "print('set1 = ', set1)\n",
    "print('set2 = ', set2)\n",
    "print('Union = ', set1.union(set2))\n",
    "print('Intersection = ', set1.intersection(set2))"
   ]
  },
  {
   "cell_type": "markdown",
   "metadata": {},
   "source": [
    "### `frozenset`: an immutable set\n",
    "`frozenset` creates an immutable static set. \n",
    "\n",
    "As opposed to `set`, `frozenset` can be used as:\n",
    "* dictionary keys\n",
    "* elements within other sets"
   ]
  },
  {
   "cell_type": "markdown",
   "metadata": {},
   "source": [
    "## `Counter`: A High-Performance Container\n",
    "`Counter` is a `dict` subclass for counting hashable objects. It implements the concept of multiset that allows elements in a set to have multiple occurences. It is an unordered container.\n",
    "\n",
    "The `Counter()` constructor either accepts an interable (e.g. list, dict)."
   ]
  },
  {
   "cell_type": "code",
   "execution_count": 12,
   "metadata": {},
   "outputs": [
    {
     "name": "stdout",
     "output_type": "stream",
     "text": [
      "Counts the characters in a string: \n",
      " Counter({' ': 8, 'l': 4, 'e': 4, 'o': 3, 'i': 3, 'a': 3, 'm': 2, 'n': 2, 't': 2, 's': 2, 'b': 1, 'K': 1, 'f': 1, '!': 1, 'u': 1, 'g': 1, 'w': 1, 'y': 1, 'H': 1, 'v': 1, ',': 1, 'I': 1, 'r': 1, 'd': 1, '.': 1})\n",
      "\n",
      "Counter created from a dict: \n",
      " Counter({'bananas': 10, 'apples': 5, 'yoghurt': 2})\n",
      "Access elements directly:\n",
      "c1[i] =  3\n",
      "If an element does not exist, Counter returns 0:\n",
      "c2[pineapples] =  0\n"
     ]
    }
   ],
   "source": [
    "from collections import Counter\n",
    "\n",
    "c1 = Counter('Hello, my name is Kat! I love building software.')\n",
    "c2 = Counter({'bananas': 10, 'apples': 5, 'yoghurt': 2})\n",
    "\n",
    "print('Counts the characters in a string: \\n', c1)\n",
    "print('\\nCounter created from a dict: \\n', c2)\n",
    "\n",
    "print('Access elements directly:')\n",
    "print('c1[i] = ', c1['i'])\n",
    "print('If an element does not exist, Counter returns 0:')\n",
    "print('c2[pineapples] = ', c2['pineapples'])"
   ]
  },
  {
   "cell_type": "markdown",
   "metadata": {},
   "source": [
    "### Counter methods\n",
    "* `update([iterable-or-mapping])`\n",
    "  * elements are counted from an iterable or added-in from another mapping or counter.\n",
    "* `elements()`\n",
    "  * returns an iterator with elements repeating the number of times equal to their count\n",
    "* `most_common([n])`\n",
    "  * returns a list of the `n` most common elements and their counts\n",
    "  * n is optional. if not added, `most_common()` will return all elements\n",
    "  * `most_common()[:-n-1:-1]` returns `n` least common elements\n",
    "* `subtract([iterable-or-mapping])`\n",
    "  * subtract an iterable from another iterable/mapping."
   ]
  },
  {
   "cell_type": "code",
   "execution_count": 13,
   "metadata": {},
   "outputs": [
    {
     "name": "stdout",
     "output_type": "stream",
     "text": [
      "\n",
      "--- update([iterable-or-mapping]) ---\n",
      "before:  Counter({'bananas': 10, 'apples': 5, 'yoghurt': 2})\n",
      "after:  Counter({'bananas': 11, 'apples': 5, 'yoghurt': 2, 'pineapples': 1})\n",
      "\n",
      "--- elements() ---\n",
      "['apples', 'apples', 'apples', 'apples', 'apples', 'yoghurt', 'yoghurt', 'pineapples', 'bananas', 'bananas', 'bananas', 'bananas', 'bananas', 'bananas', 'bananas', 'bananas', 'bananas', 'bananas', 'bananas']\n",
      "\n",
      "--- most_common([n]) ---\n",
      "[('bananas', 11), ('apples', 5)]\n",
      "[('pineapples', 1), ('yoghurt', 2)]\n",
      "\n",
      "--- subtract([iterable-or-mapping]) ---\n",
      "x =  Counter({'a': 4, 'b': 2, 'c': 0, 'd': -2})\n",
      "y =  Counter({'d': 4, 'c': 3, 'b': 2, 'a': 1})\n",
      "x.subtract(y):  Counter({'a': 3, 'b': 0, 'c': -3, 'd': -6})\n"
     ]
    }
   ],
   "source": [
    "c = Counter({'bananas': 10, 'apples': 5, 'yoghurt': 2})\n",
    "\n",
    "print('\\n--- update([iterable-or-mapping]) ---')\n",
    "print('before: ', c)\n",
    "c.update(['bananas'])\n",
    "c.update(['pineapples'])\n",
    "print('after: ', c)\n",
    "\n",
    "print('\\n--- elements() ---')\n",
    "fruits = []\n",
    "for i in c.elements():\n",
    "    fruits.append(i)\n",
    "print(fruits)\n",
    "\n",
    "print('\\n--- most_common([n]) ---')\n",
    "print(c.most_common(2))\n",
    "print(c.most_common()[:-3:-1])\n",
    "\n",
    "print('\\n--- subtract([iterable-or-mapping]) ---')\n",
    "x = Counter(a=4, b=2, c=0, d=-2)\n",
    "y = Counter(a=1, b=2, c=3, d=4)\n",
    "print('x = ', x)\n",
    "print('y = ', y)\n",
    "x.subtract(y)\n",
    "print('x.subtract(y): ', x)"
   ]
  },
  {
   "cell_type": "markdown",
   "metadata": {},
   "source": [
    "### Summary `Counter`\n",
    "`Counter` extends `set` by keeping not only track of distinct values, but also how many times they arise."
   ]
  },
  {
   "cell_type": "markdown",
   "metadata": {},
   "source": [
    "## Dictionaries\n",
    "Dictionaries are an unordered data structure and hold key:value pairs. Only immutable data types are allowed as keys. \n",
    "\n",
    "### `defaultdict`\n",
    "`defaultdict` is a subclass of `dict`. The `defaultdict([default_factory[, ...]])` constructor is used to create a dictionary. The argument `default_factory` attribute is used to specify the type of dictionary object to be returned. By default, it's `None`. It can be specified for example as `int`, `list`, `set`, etc."
   ]
  },
  {
   "cell_type": "code",
   "execution_count": 14,
   "metadata": {},
   "outputs": [
    {
     "name": "stdout",
     "output_type": "stream",
     "text": [
      "dict_items([('a', 4), ('b', 1), ('d', 4), ('c', 3)])\n",
      "dict_items([('a', [1, 4]), ('b', [2, 1]), ('d', [4]), ('c', [3])])\n",
      "dict_items([('a', {1, 4}), ('b', {1, 2}), ('d', {4}), ('c', {3})])\n",
      "dict_items([('a', 4), ('b', 1), ('d', 4), ('c', 3)])\n",
      "dict_items([('a', {'a': 4}), ('b', {'b': 1}), ('d', {'d': 4}), ('c', {'c': 3})])\n"
     ]
    }
   ],
   "source": [
    "from collections import defaultdict\n",
    "\n",
    "s = [('a', 1), ('b', 2), ('c', 3), ('d', 4), ('b', 1), ('a', 4)]\n",
    "\n",
    "d = defaultdict()\n",
    "for key, value in s:\n",
    "    d[key] = value   # Making key value pairs\n",
    "\n",
    "print(d.items())\n",
    "\n",
    "d = defaultdict(list)\n",
    "for key, value in s:\n",
    "    d[key].append(value)    # Making key value pairs\n",
    "\n",
    "print(d.items())\n",
    "\n",
    "d = defaultdict(set)\n",
    "for key, value in s:\n",
    "    d[key].add(value)    # Making key value pairs\n",
    "\n",
    "print(d.items())\n",
    "\n",
    "d = defaultdict(int)\n",
    "for key, value in s:\n",
    "    d[key] = value   # Making key value pairs\n",
    "\n",
    "print(d.items())\n",
    "\n",
    "d = defaultdict(dict)\n",
    "for key, value in s:\n",
    "    d[key] = {key: value}  # Making key value pairs\n",
    "\n",
    "print(d.items())"
   ]
  },
  {
   "cell_type": "markdown",
   "metadata": {},
   "source": [
    "### `OrderedDict`\n",
    "`OrderedDict` is a subclass of `dict` and returns items in the order that the keys have been inserted. The order does not get changed even when the value of a key is changed."
   ]
  },
  {
   "cell_type": "code",
   "execution_count": 15,
   "metadata": {},
   "outputs": [
    {
     "name": "stdout",
     "output_type": "stream",
     "text": [
      "OrderedDict([('a', 1), ('b', 2), ('c', 3)])\n",
      "OrderedDict([('a', 5), ('b', 2), ('c', 3)])\n"
     ]
    }
   ],
   "source": [
    "from collections import OrderedDict\n",
    "\n",
    "d = OrderedDict()   \n",
    "\n",
    "# Inserting elements\n",
    "d['a'] = 1\n",
    "d['b'] = 2\n",
    "d['c'] = 3\n",
    "print(d)\n",
    "\n",
    "# Changing a value\n",
    "d['a'] = 5\n",
    "print(d)"
   ]
  },
  {
   "cell_type": "markdown",
   "metadata": {},
   "source": [
    "#### `dict` + `sorted`\n",
    "There are different ways to specify the order for a `dict` using `sorted`."
   ]
  },
  {
   "cell_type": "code",
   "execution_count": 16,
   "metadata": {},
   "outputs": [
    {
     "name": "stdout",
     "output_type": "stream",
     "text": [
      "OrderedDict([('a', 5), ('b', 2), ('c', 3), ('z', 4), ('g', 5)])\n",
      "OrderedDict([('a', 5), ('b', 2), ('c', 3), ('g', 5), ('z', 4)])\n",
      "OrderedDict([('b', 2), ('c', 3), ('z', 4), ('a', 5), ('g', 5)])\n"
     ]
    }
   ],
   "source": [
    "d['z'] = 4\n",
    "d['g'] = 5\n",
    "print(d)\n",
    "\n",
    "# Sort in ascending order using keys\n",
    "print(OrderedDict(sorted(d.items(), key=lambda t: t[0])))\n",
    "\n",
    "# sort in ascending order using values\n",
    "print(OrderedDict(sorted(d.items(), key=lambda t: t[1])))\n"
   ]
  },
  {
   "cell_type": "markdown",
   "metadata": {},
   "source": [
    "## Challenge: Count with Dictionary\n",
    "\n",
    "Write a function that counts occurences of each letter in message using `defaultdict`. Then, sort the items on the basis of values using `OrderedDict`.\n",
    "\n",
    "Input:\n",
    "* String\n",
    "\n",
    "Output:\n",
    "* `OrderedDict`\n",
    "\n",
    "Example:\n",
    "* Input\n",
    "  * `'Welcome to Educative'`\n",
    "* Output\n",
    "  * `OrderedDict([('d', 1), ('a', 1), ('i', 1), ('l', 1), ('v', 1), ('W', 1), ('m', 1), ('u', 1), ('E', 1), ('c', 2), ('t', 2), (' ', 2), ('o', 2), ('e', 3)])`"
   ]
  },
  {
   "cell_type": "code",
   "execution_count": 17,
   "metadata": {},
   "outputs": [
    {
     "name": "stdout",
     "output_type": "stream",
     "text": [
      "OrderedDict([('A', 1), ('m', 1), ('c', 1), ('y', 1), ('q', 1), ('Y', 2), (\"'\", 2), ('u', 2), ('s', 2), ('I', 2), ('r', 2), ('N', 2), ('.', 2), ('f', 3), ('l', 3), (',', 3), ('k', 3), ('d', 3), ('i', 4), ('p', 4), ('w', 4), ('h', 5), ('a', 5), ('n', 6), ('o', 7), ('t', 9), ('e', 11), (' ', 25)])\n",
      "OrderedDict([('i', 1), ('v', 1), ('E', 1), ('a', 1), ('m', 1), ('u', 1), ('W', 1), ('l', 1), ('d', 1), (' ', 2), ('o', 2), ('t', 2), ('c', 2), ('e', 3)])\n"
     ]
    }
   ],
   "source": [
    "from collections import defaultdict, OrderedDict\n",
    "s = 'New York, New York. I want to wake up, in a city that doesn\\'t sleep. And find I\\'m queen of the hill, top of the heap'\n",
    "\n",
    "def count_letters(message):\n",
    "    d = defaultdict(int)\n",
    "    for ch in message:\n",
    "        d[ch] += 1\n",
    "    return OrderedDict(sorted(d.items(), key=lambda item: item[1]))\n",
    "    \n",
    "print(count_letters(s))\n",
    "print(count_letters('Welcome to Educative'))"
   ]
  },
  {
   "cell_type": "markdown",
   "metadata": {},
   "source": [
    "By using `defaultdict(int)`, when a letter is first encountered, `default_factory` calls `int()` to supply a default count of zero."
   ]
  }
 ],
 "metadata": {
  "kernelspec": {
   "display_name": "Python 3",
   "language": "python",
   "name": "python3"
  },
  "language_info": {
   "codemirror_mode": {
    "name": "ipython",
    "version": 3
   },
   "file_extension": ".py",
   "mimetype": "text/x-python",
   "name": "python",
   "nbconvert_exporter": "python",
   "pygments_lexer": "ipython3",
   "version": "3.5.6"
  }
 },
 "nbformat": 4,
 "nbformat_minor": 2
}
