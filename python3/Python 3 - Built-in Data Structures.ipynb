{
 "cells": [
  {
   "cell_type": "markdown",
   "metadata": {},
   "source": [
    "# Mastering Python 3"
   ]
  },
  {
   "cell_type": "markdown",
   "metadata": {},
   "source": [
    "## Built-in Data Structures"
   ]
  },
  {
   "cell_type": "markdown",
   "metadata": {},
   "source": [
    "### List Comprehensions\n",
    "\n",
    "Filtering with list comprehensions:"
   ]
  },
  {
   "cell_type": "code",
   "execution_count": 1,
   "metadata": {},
   "outputs": [
    {
     "name": "stdout",
     "output_type": "stream",
     "text": [
      "[2, 4, 6, 8, 10]\n",
      "[2, 4, 6, 8, 10]\n"
     ]
    }
   ],
   "source": [
    "numbers = [1,2,3,4,5,6,7,8,9,10]\n",
    "even = [number for number in numbers if number %2 ==0] # Filtering even numbers\n",
    "even_filter = list(filter(lambda n : not n%2, numbers))\n",
    "print(even)\n",
    "print(even_filter)"
   ]
  },
  {
   "cell_type": "markdown",
   "metadata": {},
   "source": [
    "Creating tuples with list comprehensions:"
   ]
  },
  {
   "cell_type": "code",
   "execution_count": 2,
   "metadata": {},
   "outputs": [
    {
     "name": "stdout",
     "output_type": "stream",
     "text": [
      "[(2, 1), (2, 3), (2, 5), (2, 7), (2, 9), (4, 1), (4, 3), (4, 5), (4, 7), (4, 9), (6, 1), (6, 3), (6, 5), (6, 7), (6, 9), (8, 1), (8, 3), (8, 5), (8, 7), (8, 9), (10, 1), (10, 3), (10, 5), (10, 7), (10, 9)]\n"
     ]
    }
   ],
   "source": [
    "even = [2,4,6,8,10]\n",
    "odd = [1,3,5,7,9]\n",
    "\n",
    "# Pairing every number from even with every number from odd\n",
    "pair = [(number1,number2) for number1 in even for number2 in odd]\n",
    "\n",
    "print(pair)"
   ]
  },
  {
   "cell_type": "markdown",
   "metadata": {},
   "source": [
    "### Tuples\n",
    "Tuples are immutable lists.\n",
    "\n",
    "Unpacking tuples:"
   ]
  },
  {
   "cell_type": "code",
   "execution_count": 3,
   "metadata": {},
   "outputs": [
    {
     "name": "stdout",
     "output_type": "stream",
     "text": [
      "banana\n",
      "apple\n"
     ]
    }
   ],
   "source": [
    "fruits = [('banana', 'yellow', 10), ('apple', 'red', 19)]\n",
    "\n",
    "# Unpacking the tuple with a for loop\n",
    "for name, _, _ in fruits:\n",
    "    print(name)"
   ]
  },
  {
   "cell_type": "markdown",
   "metadata": {},
   "source": [
    "Unpacking using the `*` operator:"
   ]
  },
  {
   "cell_type": "code",
   "execution_count": 4,
   "metadata": {},
   "outputs": [
    {
     "name": "stdout",
     "output_type": "stream",
     "text": [
      "3\n"
     ]
    }
   ],
   "source": [
    "# Function returning the sum of its arguments\n",
    "def add(a, b):\n",
    "  return a+b\n",
    "\n",
    "numbers = (1, 2)\n",
    "result = add (*numbers) # Unpacking numbers with * : add(1,2)\n",
    "print(result)"
   ]
  },
  {
   "cell_type": "markdown",
   "metadata": {},
   "source": [
    "### Challenge: Read the Line Segments\n",
    "\n",
    "Given a list of nested tuples of line segments:\n",
    "`[..., (ID, (x1, y1), (x2, y2)), ...]`\n",
    "\n",
    "find all line segments that only lie within the $2^{nd}$ quadrant. Return their `ID`s in a list.\n",
    "\n",
    "Note: The second quadrant holds values for $x <= 0$ and $y >= 0$.\n",
    "\n",
    "Assumption: No line segment holds `(0, 0)` as an ending point. "
   ]
  },
  {
   "cell_type": "code",
   "execution_count": 25,
   "metadata": {},
   "outputs": [
    {
     "data": {
      "text/plain": [
       "[2]"
      ]
     },
     "execution_count": 25,
     "metadata": {},
     "output_type": "execute_result"
    }
   ],
   "source": [
    "def filter_line_segments(lines):\n",
    "    return [ID for ID, (x1, y1), (x2, y2) in lines if \n",
    "            x1 <= 0 and y1 >= 0 and \n",
    "            x2 <= 0 and y2 >= 0]\n",
    "\n",
    "# Given the following lines, the expected output is: [2]\n",
    "lines = [(1, (2, 4), (1, 9)), \n",
    "         (2, (-2, 4), (-1, 9)), \n",
    "         (3, (-2, -4), (-1, -9))]\n",
    "\n",
    "filter_line_segments(lines)"
   ]
  },
  {
   "cell_type": "code",
   "execution_count": 26,
   "metadata": {},
   "outputs": [],
   "source": [
    "assert filter_line_segments([(1, (-2, 10), (4, -3)),\n",
    "                             (2, (-2, 1), (-9, 2)),\n",
    "                             (3, (1, 1), (4, -5)),\n",
    "                             (4, (-3, 3), (2, -4))]) == [2]\n",
    "assert filter_line_segments([(1, (-2, 1), (-6, 8)),\n",
    "                             (2, (-9, 2), (-7, 1)),\n",
    "                             (3, (-2, 1), (-5, 9)),\n",
    "                             (4, (-7, 8), (-1, 9))]) == [1,2,3,4]\n",
    "assert filter_line_segments([(1, (1, 2), (3, 1))]) == []"
   ]
  },
  {
   "cell_type": "markdown",
   "metadata": {},
   "source": [
    "### Namedtuple: An Extension of Tuple\n",
    "\n",
    "The `namedtuple` is an extended version of the built-in tuple sequence. It is immutable. \n",
    "\n",
    "Let's explore why we need a `namedtuple` data structure in addition to the regular `tuple` data structure.\n",
    "\n",
    "#### Limitations of  tuples\n",
    "Characteristics of tuples:\n",
    "* We can only access data from a tuple by using an index.\n",
    "* Tuples don't guarantee that the data they hold are of the same type, which can make debugging difficult.\n",
    "\n",
    "`namedtuple` allow us to use human-readable identifiers to access fields. Define it like this:\n",
    "\n",
    "```python\n",
    "my_named_tuple = namedtuple(typename, fieldnames)\n",
    "```"
   ]
  },
  {
   "cell_type": "code",
   "execution_count": 37,
   "metadata": {},
   "outputs": [
    {
     "name": "stdout",
     "output_type": "stream",
     "text": [
      "Fruit(name='orange', color='orange', price=1.5)\n",
      "Fruit(name='pineapple', color='brown', price=4)\n",
      "\n",
      "-- Access field names directly --\n",
      "orange orange 1.5\n",
      "pineapple brown 4\n",
      "\n",
      "-- Access fields using indices --\n",
      "orange orange 1.5\n",
      "pineapple brown 4\n"
     ]
    }
   ],
   "source": [
    "from collections import namedtuple\n",
    "\n",
    "Fruit = namedtuple('Fruit', 'name color price')\n",
    "\n",
    "# Create objects of type Fruit\n",
    "fruit_1 = Fruit('orange', 'orange', 1.50)\n",
    "fruit_2 = Fruit('pineapple', 'brown', 4)\n",
    "\n",
    "print(fruit_1)\n",
    "print(fruit_2)\n",
    "\n",
    "print(\"\\n-- Access field names directly --\")\n",
    "print(fruit_1.name, fruit_1.color, fruit_1.price)\n",
    "print(fruit_2.name, fruit_2.color, fruit_2.price)\n",
    "\n",
    "print(\"\\n-- Access fields using indices --\")\n",
    "print(fruit_1[0], fruit_1[1], fruit_1[2])\n",
    "print(fruit_2[0], fruit_2[1], fruit_2[2])"
   ]
  },
  {
   "cell_type": "markdown",
   "metadata": {},
   "source": [
    "Since we can still access the values within a `namedtuple` with indices, the unpacking methods do still work.\n",
    "\n",
    "#### `namedtuple` methods and properties\n",
    "* `_fields` retrieves the name of the fields\n",
    "* `_make(iterable)` creates an instance using the iterable of our `namedtuple` type\n",
    "  * Alternatively, we can use the `*` operator, e.g. `Fruit(*iterable)`\n",
    "* `_asdict` returns a dictionary that maps field names to their values\n",
    "* `_replace(**kwargs)` updates the value of a field"
   ]
  },
  {
   "cell_type": "code",
   "execution_count": 48,
   "metadata": {},
   "outputs": [
    {
     "name": "stdout",
     "output_type": "stream",
     "text": [
      "('name', 'color', 'price')\n",
      "Fruit(name='banana', color='yellow', price=1.0)\n",
      "Fruit(name='cherry', color='red', price=5.99)\n",
      "OrderedDict([('name', 'cherry'), ('color', 'red'), ('price', 5.99)])\n",
      "Fruit(name='cherry', color='red', price=3.05)\n"
     ]
    }
   ],
   "source": [
    "# Print the field names\n",
    "print(Fruit._fields)\n",
    "\n",
    "# Create a Fruit instance from an interable\n",
    "iterable = ['banana', 'yellow', 1.0]\n",
    "banana = Fruit._make(iterable)\n",
    "print(banana)\n",
    "\n",
    "# Alternatively, use the * operator\n",
    "iterable = ['cherry', 'red', 5.99]\n",
    "cherry = Fruit(*iterable)\n",
    "print(cherry)\n",
    "\n",
    "# Create a dictionary that maps the field names to their values\n",
    "cherry_dict = cherry._asdict()\n",
    "print(cherry_dict)\n",
    "\n",
    "# Update the price of the cherry\n",
    "cheaper_cherry = cherry._replace(price=3.05)\n",
    "print(cheaper_cherry)"
   ]
  },
  {
   "cell_type": "markdown",
   "metadata": {},
   "source": [
    "Namedtuples are a shortcut to defining an immutable class in Python manually."
   ]
  },
  {
   "cell_type": "markdown",
   "metadata": {},
   "source": [
    "### Stacks & Queues\n",
    "\n",
    "* Stack: LIFO, push, pop\n",
    "* Queue: FIFO, enqueue, dequeue\n",
    "\n",
    "#### Using List\n",
    "Use `append()` and `pop()` to implement a stack. It leads to an amortized time of $O(1)$.\n",
    "\n",
    "It would make a poor choice for a queue, though, leading to $O(n)$. We'd use `append()` and `pop(0)` for that poor decision.\n",
    "\n",
    "_Note:_ Popping from an empty list returns an error.\n",
    "\n",
    "#### Using `collections.deque`\n",
    "`deque` is like a double-ended queue that lets you add or remove elements from either end. It takes $O(1)$ time for both operations, whether it's a stack or a queue implementation.\n",
    "\n",
    "The backend implementation of `deque` is a doubly-linked list, which is why random access in the worst case is $O(n)$ unlike the list.\n",
    "\n",
    "* Stack:\n",
    "  * use `append()` and `pop()`\n",
    "* Queue:\n",
    "  * use `append()` and `popleft()`"
   ]
  },
  {
   "cell_type": "code",
   "execution_count": 53,
   "metadata": {},
   "outputs": [
    {
     "name": "stdout",
     "output_type": "stream",
     "text": [
      "Stack:\n",
      "deque(['a', 'b', 'c'])\n",
      "deque(['a', 'b'])\n",
      "\n",
      "Queue:\n",
      "deque(['a', 'b', 'c'])\n",
      "deque(['b', 'c'])\n"
     ]
    }
   ],
   "source": [
    "from collections import deque\n",
    "\n",
    "stack = deque()\n",
    "queue = deque()\n",
    "\n",
    "print(\"Stack:\")\n",
    "# Push elements in stack\n",
    "stack.append('a')\n",
    "stack.append('b')\n",
    "stack.append('c')\n",
    "print(stack)\n",
    "\n",
    "# Pop element from stack\n",
    "stack.pop()\n",
    "print(stack)\n",
    "\n",
    "print(\"\\nQueue:\")\n",
    "# Enqueue element in queue\n",
    "queue.append('a')\n",
    "queue.append('b')\n",
    "queue.append('c')\n",
    "print(queue)\n",
    "\n",
    "# Dequeue element from queue\n",
    "queue.popleft()\n",
    "print(queue)"
   ]
  },
  {
   "cell_type": "markdown",
   "metadata": {},
   "source": [
    "### Challenge: Prefix to Postfix Conversion\n",
    "\n",
    "Write a function that takes a prefix expression and converts it to a postfix expressoin using a stack.\n",
    "\n",
    "For example:\n",
    "* Expression: $A+B$\n",
    "* Prefix expression: $+AB$\n",
    "* Postfix expression: $AB+$\n",
    "\n",
    "More examples:\n",
    "* $A + B$\n",
    "  * $+AB$\n",
    "  * $AB+$\n",
    "* $(A+B)*(C-D)$\n",
    "  * $*+AB - CD$\n",
    "  * $AB+CD-*$\n",
    "* $\n",
    "  * $*-A/BC-/AKL$\n",
    "  * $ABC/-AK/L-*$"
   ]
  },
  {
   "cell_type": "code",
   "execution_count": null,
   "metadata": {},
   "outputs": [],
   "source": [
    "# Sample input: '+AB'\n",
    "# Sample output: 'AB+'\n",
    "\n",
    "from collections import deque\n",
    "\n",
    "def postfix(prefix):\n",
    "    stack = deque()\n",
    "    \n",
    "    "
   ]
  },
  {
   "cell_type": "markdown",
   "metadata": {},
   "source": [
    "### Solution Review: Prefix to Postfix Conversion"
   ]
  },
  {
   "cell_type": "markdown",
   "metadata": {},
   "source": [
    "### Sets"
   ]
  },
  {
   "cell_type": "markdown",
   "metadata": {},
   "source": [
    "### Counter: A High-Performance Container"
   ]
  },
  {
   "cell_type": "markdown",
   "metadata": {},
   "source": [
    "### Dictionaries"
   ]
  },
  {
   "cell_type": "markdown",
   "metadata": {},
   "source": [
    "### Challenge: Count with Dictionary"
   ]
  },
  {
   "cell_type": "markdown",
   "metadata": {},
   "source": [
    "### Solution Review: Count with Dictionary"
   ]
  },
  {
   "cell_type": "markdown",
   "metadata": {},
   "source": [
    "### Quiz: Built-in Data Structures"
   ]
  },
  {
   "cell_type": "code",
   "execution_count": null,
   "metadata": {},
   "outputs": [],
   "source": []
  }
 ],
 "metadata": {
  "kernelspec": {
   "display_name": "Python 3",
   "language": "python",
   "name": "python3"
  },
  "language_info": {
   "codemirror_mode": {
    "name": "ipython",
    "version": 3
   },
   "file_extension": ".py",
   "mimetype": "text/x-python",
   "name": "python",
   "nbconvert_exporter": "python",
   "pygments_lexer": "ipython3",
   "version": "3.5.6"
  }
 },
 "nbformat": 4,
 "nbformat_minor": 2
}
