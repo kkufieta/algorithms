{
 "cells": [
  {
   "cell_type": "markdown",
   "metadata": {},
   "source": [
    "# Trie\n",
    "* Type of tree\n",
    "* Can be used for spell check: Is the word valid or not?\n",
    "* Saves space (as compared to e.g. using a hashmap from first letter to word)"
   ]
  },
  {
   "cell_type": "code",
   "execution_count": 18,
   "metadata": {},
   "outputs": [],
   "source": [
    "class Node:\n",
    "    def __init__(self):\n",
    "        # True if it is a node that denotes the end of a word\n",
    "        self.is_word = False\n",
    "        # Dict that maps letter to new Node\n",
    "        self.children = {}\n",
    "        \n",
    "class Trie:\n",
    "    def __init__(self, words=[]):\n",
    "        self.root = Node()\n",
    "        for word in words:\n",
    "            self.add(word)\n",
    "        \n",
    "    def add(self, word):\n",
    "        \"\"\"\n",
    "        Add `word` to Trie.\n",
    "        \"\"\"\n",
    "        node = self.root\n",
    "        for letter in word:\n",
    "            if letter not in node.children:\n",
    "                node.children[letter] = Node()\n",
    "            node = node.children[letter]\n",
    "        node.is_word = True\n",
    "    \n",
    "    def exists(self, word):\n",
    "        \"\"\"\n",
    "        Check if `word` exists in Trie.\n",
    "        \"\"\"\n",
    "        node = self.root\n",
    "        for letter in word:\n",
    "            if letter not in node.children:\n",
    "                return False\n",
    "            node = node.children[letter]\n",
    "        return node.is_word"
   ]
  },
  {
   "cell_type": "code",
   "execution_count": 22,
   "metadata": {},
   "outputs": [],
   "source": [
    "words = ['apple', 'bear', 'goo', 'good', 'goodbye', 'goods', 'goodwill', 'gooses'  ,'zebra']\n",
    "trie = Trie(words)"
   ]
  },
  {
   "cell_type": "code",
   "execution_count": 24,
   "metadata": {},
   "outputs": [
    {
     "name": "stdout",
     "output_type": "stream",
     "text": [
      "\"bear\" ✅\n",
      "\"goo\" ✅\n",
      "\"good\" ✅\n",
      "\"goos\" ❌\n",
      "\"zebra\" ✅\n",
      "\"z\" ❌\n",
      "\"ze\" ❌\n",
      "\"zebras\" ❌\n"
     ]
    }
   ],
   "source": [
    "# Test words\n",
    "test_words = ['bear', 'goo', 'good', 'goos', 'zebra', 'z', 'ze', 'zebras']\n",
    "for word in test_words:\n",
    "    if trie.exists(word):\n",
    "        print('\" ✅{}\"'.format(word))\n",
    "    else:\n",
    "        print('\"{}\" ❌'.format(word))"
   ]
  },
  {
   "cell_type": "code",
   "execution_count": null,
   "metadata": {},
   "outputs": [],
   "source": []
  }
 ],
 "metadata": {
  "kernelspec": {
   "display_name": "Python 3",
   "language": "python",
   "name": "python3"
  },
  "language_info": {
   "codemirror_mode": {
    "name": "ipython",
    "version": 3
   },
   "file_extension": ".py",
   "mimetype": "text/x-python",
   "name": "python",
   "nbconvert_exporter": "python",
   "pygments_lexer": "ipython3",
   "version": "3.5.6"
  }
 },
 "nbformat": 4,
 "nbformat_minor": 2
}
