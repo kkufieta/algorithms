{
 "cells": [
  {
   "cell_type": "markdown",
   "metadata": {},
   "source": [
    "# Binary Search\n",
    "Given: Sorted Array, Target Value\n",
    "Find the target value in the array. If it exists in the array, return the index of the value. Otherwise, return -1.\n",
    "\n",
    "* Runtime: $O(log(n))$\n",
    "* Space: $O(1)$"
   ]
  },
  {
   "cell_type": "code",
   "execution_count": 48,
   "metadata": {},
   "outputs": [],
   "source": [
    "def binary_search(a, target_value):\n",
    "    low = 0\n",
    "    high = len(a)-1\n",
    "    while low <= high:\n",
    "        mid = low + (high - low)//2\n",
    "        if a[mid] == target_value:\n",
    "            print(\"Target value: \", target_value, \" Index: \", mid)\n",
    "            return mid\n",
    "        elif a[mid] > target_value:\n",
    "            high = mid - 1\n",
    "        else:\n",
    "            low = mid + 1\n",
    "    print(\"Target value: \", target_value, \" not found\")\n",
    "    return -1    "
   ]
  },
  {
   "cell_type": "code",
   "execution_count": 50,
   "metadata": {},
   "outputs": [
    {
     "name": "stdout",
     "output_type": "stream",
     "text": [
      "Target value:  1  Index:  0\n",
      "Target value:  2  Index:  1\n",
      "Target value:  3  Index:  2\n",
      "Target value:  4  not found\n",
      "Target value:  -1  not found\n"
     ]
    },
    {
     "data": {
      "text/plain": [
       "-1"
      ]
     },
     "execution_count": 50,
     "metadata": {},
     "output_type": "execute_result"
    }
   ],
   "source": [
    "a = [1,2,3]\n",
    "binary_search(a, 1)\n",
    "binary_search(a, 2)\n",
    "binary_search(a, 3)\n",
    "binary_search(a, 4)\n",
    "binary_search(a, -1)"
   ]
  },
  {
   "cell_type": "code",
   "execution_count": 51,
   "metadata": {},
   "outputs": [
    {
     "name": "stdout",
     "output_type": "stream",
     "text": [
      "Target value:  3  Index:  0\n",
      "Target value:  40  Index:  1\n",
      "Target value:  149  Index:  2\n",
      "Target value:  340  Index:  3\n",
      "Target value:  2030  Index:  4\n",
      "Target value:  4505  Index:  5\n",
      "Target value:  10000  Index:  6\n",
      "Target value:  -1  not found\n",
      "Target value:  4  not found\n",
      "Target value:  100  not found\n",
      "Target value:  10001  not found\n"
     ]
    },
    {
     "data": {
      "text/plain": [
       "-1"
      ]
     },
     "execution_count": 51,
     "metadata": {},
     "output_type": "execute_result"
    }
   ],
   "source": [
    "a = [3, 40, 149, 340, 2030, 4505, 10000]\n",
    "binary_search(a, 3)\n",
    "binary_search(a, 40)\n",
    "binary_search(a, 149)\n",
    "binary_search(a, 340)\n",
    "binary_search(a, 2030)\n",
    "binary_search(a, 4505)\n",
    "binary_search(a, 10000)\n",
    "binary_search(a, -1)\n",
    "binary_search(a, 4)\n",
    "binary_search(a, 100)\n",
    "binary_search(a, 10001)"
   ]
  },
  {
   "cell_type": "code",
   "execution_count": null,
   "metadata": {},
   "outputs": [],
   "source": []
  }
 ],
 "metadata": {
  "kernelspec": {
   "display_name": "Python 3",
   "language": "python",
   "name": "python3"
  },
  "language_info": {
   "codemirror_mode": {
    "name": "ipython",
    "version": 3
   },
   "file_extension": ".py",
   "mimetype": "text/x-python",
   "name": "python",
   "nbconvert_exporter": "python",
   "pygments_lexer": "ipython3",
   "version": "3.5.6"
  }
 },
 "nbformat": 4,
 "nbformat_minor": 2
}
