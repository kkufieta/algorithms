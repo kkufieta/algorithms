{
 "cells": [
  {
   "cell_type": "markdown",
   "metadata": {},
   "source": [
    "# Sorting\n",
    "Contents:\n",
    "* bubble sort\n",
    "* selection sort\n",
    "* insertion sort\n",
    "* merge sort\n",
    "* quick sort\n",
    "* heap sort\n",
    "* radix sort\n",
    "\n",
    "## Bubble Sort\n",
    "[Bubble sort](https://en.wikipedia.org/wiki/Bubble_sort) runs in:\n",
    "* $O(n^2)$ time (Best case: $O(n)$)\n",
    "* $O(1)$ space"
   ]
  },
  {
   "cell_type": "code",
   "execution_count": 30,
   "metadata": {},
   "outputs": [],
   "source": [
    "def bubble_sort(a):\n",
    "    n = len(a)\n",
    "    for _ in range(n):\n",
    "        is_sorted = True\n",
    "        for j in range(n-1):\n",
    "            if a[j] > a[j+1]:\n",
    "                is_sorted = False\n",
    "                a[j], a[j+1] = a[j+1], a[j]\n",
    "        if is_sorted:\n",
    "            break\n",
    "    print(a)\n",
    "    return a"
   ]
  },
  {
   "cell_type": "code",
   "execution_count": 31,
   "metadata": {},
   "outputs": [
    {
     "name": "stdout",
     "output_type": "stream",
     "text": [
      "[1, 2, 3, 4, 5]\n",
      "[0, 0, 1, 2, 2, 4, 7, 9, 12]\n"
     ]
    }
   ],
   "source": [
    "a = [1,2,3,4,5]\n",
    "b = [4,7,2,1,0,2,9,0,12]\n",
    "\n",
    "assert bubble_sort(a) == [1, 2, 3, 4, 5]\n",
    "assert bubble_sort(b) == [0, 0, 1, 2, 2, 4, 7, 9, 12]"
   ]
  },
  {
   "cell_type": "markdown",
   "metadata": {},
   "source": [
    "## Selection Sort\n",
    "* Input list is divided into two parts:\n",
    "  * a sorted sublist which is built from left to right\n",
    "  * an unsorted sublist to the right of the sorted list\n",
    "* Find the min value in the unsorted sublist and swap it with the leftmost unsorted element. \n",
    "* Move the boundary between sorted & unsorted sublists up by one.\n",
    "\n",
    "\n",
    "[Selection sort](https://en.wikipedia.org/wiki/Selection_sort) runs in:\n",
    "* $O(n^2)$ time\n",
    "* $O(1)$ space"
   ]
  },
  {
   "cell_type": "code",
   "execution_count": 19,
   "metadata": {},
   "outputs": [],
   "source": [
    "def selection_sort(a):\n",
    "    low = 0\n",
    "    n = len(a)\n",
    "    while low < n:\n",
    "        min_el_index = low\n",
    "        for i in range(low, n):\n",
    "            if a[i] < a[min_el_index]:\n",
    "                min_el_index = i\n",
    "        a[low], a[min_el_index] = a[min_el_index], a[low]\n",
    "        low += 1\n",
    "    print(a)\n",
    "    return a"
   ]
  },
  {
   "cell_type": "code",
   "execution_count": 21,
   "metadata": {},
   "outputs": [
    {
     "name": "stdout",
     "output_type": "stream",
     "text": [
      "[1, 2, 3, 4, 5]\n",
      "[0, 0, 1, 2, 2, 4, 7, 9, 12]\n"
     ]
    }
   ],
   "source": [
    "a = [1,2,3,4,5]\n",
    "b = [4,7,2,1,0,2,9,0,12]\n",
    "\n",
    "assert selection_sort(a) == [1, 2, 3, 4, 5]\n",
    "assert selection_sort(b) == [0, 0, 1, 2, 2, 4, 7, 9, 12]"
   ]
  },
  {
   "cell_type": "markdown",
   "metadata": {},
   "source": [
    "## Insertion Sort\n",
    "Insertion Sort keeps a sorted list to the left of the current element examined, and an unsorted list to the right of it.\n",
    "\n",
    "Iteratively, until no unsorted elements remain:\n",
    "* remove one element from the input data\n",
    "* find the location it belongs within the sorted list\n",
    "* insert it here\n",
    "\n",
    "[Insertion sort](https://en.wikipedia.org/wiki/Insertion_sort) runs in:\n",
    "* $O(n^2)$ time (Best case: $O(n)$\n",
    "* $O(1)$ space"
   ]
  },
  {
   "cell_type": "code",
   "execution_count": 24,
   "metadata": {},
   "outputs": [],
   "source": [
    "def insertion_sort(a):\n",
    "    for i in range(1, len(a)):\n",
    "        while i > 0 and a[i] < a[i-1]:\n",
    "            a[i], a[i-1] = a[i-1], a[i]\n",
    "            i -= 1\n",
    "    print(a)\n",
    "    return a"
   ]
  },
  {
   "cell_type": "code",
   "execution_count": 25,
   "metadata": {},
   "outputs": [
    {
     "name": "stdout",
     "output_type": "stream",
     "text": [
      "[1, 2, 3, 4, 5]\n",
      "[0, 0, 1, 2, 2, 4, 7, 9, 12]\n"
     ]
    }
   ],
   "source": [
    "a = [1,2,3,4,5]\n",
    "b = [4,7,2,1,0,2,9,0,12]\n",
    "\n",
    "assert insertion_sort(a) == [1, 2, 3, 4, 5]\n",
    "assert insertion_sort(b) == [0, 0, 1, 2, 2, 4, 7, 9, 12]"
   ]
  },
  {
   "cell_type": "markdown",
   "metadata": {},
   "source": [
    "## Merge Sort\n",
    "[Merge sort](https://en.wikipedia.org/wiki/Merge_sort) runs in:\n",
    "* $O(n*log(n))$ time\n",
    "* $O(n)$ space"
   ]
  },
  {
   "cell_type": "code",
   "execution_count": 45,
   "metadata": {},
   "outputs": [],
   "source": [
    "def merge(a, b):\n",
    "    # Reverse arrays to make implementation more efficient\n",
    "    a = a[::-1]\n",
    "    b = b[::-1]\n",
    "    merged = []\n",
    "    while a or b:\n",
    "        if len(a) == 0 or len(b) == 0:\n",
    "            merged.extend(a[::-1])\n",
    "            merged.extend(b[::-1])\n",
    "            print(merged)\n",
    "            return merged\n",
    "        elif a[-1] < b[-1]:\n",
    "            merged.append(a.pop())\n",
    "        else:\n",
    "            merged.append(b.pop())\n",
    "    print(merged)\n",
    "    return merged\n",
    "\n",
    "def merge_sort(a):\n",
    "    if len(a) <= 1:\n",
    "        return a\n",
    "    mid = len(a)//2\n",
    "    return merge(merge_sort(a[:mid]), merge_sort(a[mid:]))"
   ]
  },
  {
   "cell_type": "code",
   "execution_count": 46,
   "metadata": {},
   "outputs": [
    {
     "name": "stdout",
     "output_type": "stream",
     "text": [
      "[1, 2]\n",
      "[4, 5]\n",
      "[3, 4, 5]\n",
      "[1, 2, 3, 4, 5]\n",
      "--\n",
      "[4, 7]\n",
      "[1, 2]\n",
      "[1, 2, 4, 7]\n",
      "[0, 2]\n",
      "[0, 12]\n",
      "[0, 9, 12]\n",
      "[0, 0, 2, 9, 12]\n",
      "[0, 0, 1, 2, 2, 4, 7, 9, 12]\n"
     ]
    }
   ],
   "source": [
    "a = [1,2,3,4,5]\n",
    "b = [4,7,2,1,0,2,9,0,12]\n",
    "\n",
    "assert merge_sort(a) == [1, 2, 3, 4, 5]\n",
    "print('--')\n",
    "assert merge_sort(b) == [0, 0, 1, 2, 2, 4, 7, 9, 12]"
   ]
  },
  {
   "cell_type": "markdown",
   "metadata": {},
   "source": [
    "## Quicksort\n",
    "[Quicksort](https://en.wikipedia.org/wiki/Quicksort) runs in:\n",
    "* $O(n*log(n))$ time (Worst case: $O(n^2)$\n",
    "* $O(log(n))$ space"
   ]
  },
  {
   "cell_type": "code",
   "execution_count": 110,
   "metadata": {},
   "outputs": [],
   "source": [
    "def quicksort(a, boundaries=None):\n",
    "    if not boundaries:\n",
    "        low, high = 0, len(a) - 1\n",
    "    else:\n",
    "        low, high = boundaries\n",
    "    if low >= high:\n",
    "        return a[low:high+1]\n",
    "    p = low\n",
    "    pivot = a[high]\n",
    "    for i in range(low, high):\n",
    "        if a[i] < pivot:\n",
    "            a[i], a[p] = a[p], a[i]\n",
    "            p += 1\n",
    "    a[high], a[p] = a[p], a[high]\n",
    "    \n",
    "    left = quicksort(a, (low, p-1))\n",
    "    right = quicksort(a, (p+1, high))\n",
    "    if not boundaries: print(left + [pivot] + right)\n",
    "    return left + [pivot] + right"
   ]
  },
  {
   "cell_type": "code",
   "execution_count": 111,
   "metadata": {},
   "outputs": [
    {
     "name": "stdout",
     "output_type": "stream",
     "text": [
      "[1, 2, 3, 4, 5]\n",
      "[0, 0, 1, 2, 2, 4, 7, 9, 12]\n"
     ]
    }
   ],
   "source": [
    "a = [1,2,3,4,5]\n",
    "b = [4,7,2,1,0,2,9,0,12]\n",
    "\n",
    "assert quicksort(a) == [1, 2, 3, 4, 5]\n",
    "assert quicksort(b) == [0, 0, 1, 2, 2, 4, 7, 9, 12]"
   ]
  },
  {
   "cell_type": "markdown",
   "metadata": {},
   "source": [
    "More pythonic way of implementing quicksort:"
   ]
  },
  {
   "cell_type": "code",
   "execution_count": 116,
   "metadata": {},
   "outputs": [],
   "source": [
    "import random"
   ]
  },
  {
   "cell_type": "code",
   "execution_count": 139,
   "metadata": {},
   "outputs": [],
   "source": [
    "def quicksort(a):\n",
    "    print(a)\n",
    "    if len(a) <= 1:\n",
    "        return a\n",
    "        \n",
    "    p = random.randint(0, len(a)-1)\n",
    "    a[p], a[-1] = a[-1], a[p]\n",
    "    pivot = a[-1]\n",
    "    print(pivot, a)\n",
    "    left = list(filter(lambda el: el < pivot, a[:-1]))\n",
    "    right = list(filter(lambda el: el >= pivot, a[:-1]))\n",
    "    print(left, right)\n",
    "    return quicksort(left) + [p] + quicksort(right)"
   ]
  },
  {
   "cell_type": "code",
   "execution_count": 140,
   "metadata": {},
   "outputs": [
    {
     "name": "stdout",
     "output_type": "stream",
     "text": [
      "[1, 2, 3, 4, 5]\n",
      "4 [1, 2, 3, 5, 4]\n",
      "[1, 2, 3] [5]\n",
      "[1, 2, 3]\n",
      "1 [3, 2, 1]\n",
      "[] [3, 2]\n",
      "[]\n",
      "[3, 2]\n",
      "2 [3, 2]\n",
      "[] [3]\n",
      "[]\n",
      "[3]\n",
      "[5]\n",
      "result:  [0, 1, 3, 3, 5]\n",
      "--\n",
      "[4, 7, 2, 1, 0, 2, 9, 0, 12]\n",
      "4 [12, 7, 2, 1, 0, 2, 9, 0, 4]\n",
      "[2, 1, 0, 2, 0] [12, 7, 9]\n",
      "[2, 1, 0, 2, 0]\n",
      "2 [0, 1, 0, 2, 2]\n",
      "[0, 1, 0] [2]\n",
      "[0, 1, 0]\n",
      "0 [0, 1, 0]\n",
      "[] [0, 1]\n",
      "[]\n",
      "[0, 1]\n",
      "0 [1, 0]\n",
      "[] [1]\n",
      "[]\n",
      "[1]\n",
      "[2]\n",
      "[12, 7, 9]\n",
      "7 [12, 9, 7]\n",
      "[] [12, 9]\n",
      "[]\n",
      "[12, 9]\n",
      "9 [12, 9]\n",
      "[] [12]\n",
      "[]\n",
      "[12]\n",
      "result:  [0, 0, 1, 0, 2, 0, 1, 1, 12]\n"
     ]
    }
   ],
   "source": [
    "a = [1,2,3,4,5]\n",
    "b = [4,7,2,1,0,2,9,0,12]\n",
    "\n",
    "print('result: ', quicksort(a))\n",
    "print('--')\n",
    "print('result: ', quicksort(b))\n",
    "\n",
    "# assert quicksort(a) == [1, 2, 3, 4, 5]\n",
    "# assert quicksort(b) == [0, 0, 1, 2, 2, 4, 7, 9, 12]"
   ]
  },
  {
   "cell_type": "markdown",
   "metadata": {},
   "source": [
    "## Heapsort\n",
    "* Can be thought of as an improved selection sort\n",
    "  * Difference: Does not do linear-time search, instead uses \n",
    "* Divides its input into a sorted & unsorted region\n",
    "* Iteratively shrinks the unsorted region by extracting the largest element from it & inserting it into the sorted region\n",
    "* Saves time by maintaining the unsorted region in a heap data structure to more quickly find the largest element in each step.\n",
    "\n",
    "[Heapsort](https://en.wikipedia.org/wiki/Heapsort) runs in:\n",
    "* $O(n*log(n))$ time\n",
    "* $O(1)$ space"
   ]
  },
  {
   "cell_type": "markdown",
   "metadata": {},
   "source": [
    "## Radix Sort\n",
    "[Radix Sort](https://en.wikipedia.org/wiki/Radix_sort) runs in:\n",
    "* $O(n*k)$ time\n",
    "* $O(n+k)$ space"
   ]
  },
  {
   "cell_type": "code",
   "execution_count": null,
   "metadata": {},
   "outputs": [],
   "source": []
  }
 ],
 "metadata": {
  "kernelspec": {
   "display_name": "Python 3",
   "language": "python",
   "name": "python3"
  },
  "language_info": {
   "codemirror_mode": {
    "name": "ipython",
    "version": 3
   },
   "file_extension": ".py",
   "mimetype": "text/x-python",
   "name": "python",
   "nbconvert_exporter": "python",
   "pygments_lexer": "ipython3",
   "version": "3.5.6"
  }
 },
 "nbformat": 4,
 "nbformat_minor": 2
}
