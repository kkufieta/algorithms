{
 "cells": [
  {
   "cell_type": "markdown",
   "metadata": {},
   "source": [
    "# Data Structures\n",
    "## Linked Lists\n",
    "I like to keep track of both the head and the tail in the list.\n",
    "\n",
    "| Insertion ${}^*$  | Deletion | Searching |\n",
    "|:----------:|:-------------:|:------:|\n",
    "| $O(1)$ |  $O(n)$ | $O(n)$ |\n",
    "\n",
    "${}^*$ Assuming we consider only inserting nodes at the head or tail of the linked list. Otherwise, insertion takes $O(n)$ time."
   ]
  },
  {
   "cell_type": "markdown",
   "metadata": {},
   "source": [
    "## Node"
   ]
  },
  {
   "cell_type": "code",
   "execution_count": 1,
   "metadata": {},
   "outputs": [],
   "source": [
    "class Node:\n",
    "    def __init__(self, value):\n",
    "        self.value = value\n",
    "        self.next = None"
   ]
  },
  {
   "cell_type": "markdown",
   "metadata": {},
   "source": [
    "## Singly Linked List"
   ]
  },
  {
   "cell_type": "code",
   "execution_count": 7,
   "metadata": {},
   "outputs": [],
   "source": [
    "class SinglyLinkedList:\n",
    "    def __init__(self, value=None):\n",
    "        if value:\n",
    "            self.head = Node(value)\n",
    "        else:\n",
    "            self.head = None\n",
    "        self.tail = self.head\n",
    "    \n",
    "    def append(self, value):\n",
    "        '''\n",
    "        Add a value at the tail end of the linked list.\n",
    "        '''\n",
    "        node = Node(value)\n",
    "        if not self.head:\n",
    "            self.head = node\n",
    "            self.tail = self.head\n",
    "        else:\n",
    "            self.tail.next = node\n",
    "            self.tail = self.tail.next\n",
    "            \n",
    "    def prepend(self, value):\n",
    "        '''\n",
    "        Add a value to the head of a linked list.\n",
    "        '''\n",
    "        node = Node(value)\n",
    "        if not self.head:\n",
    "            self.head = node\n",
    "            self.tail = self.head\n",
    "        else:\n",
    "            node.next = self.head\n",
    "            self.head = node\n",
    "            \n",
    "    def contains(self, value):\n",
    "        '''\n",
    "        Check if the value is stored in the list.\n",
    "        '''\n",
    "        node = self.head\n",
    "        while node:\n",
    "            if node.value == value:\n",
    "                return True\n",
    "            node = node.next\n",
    "        return False\n",
    "    \n",
    "    def delete(self, value):\n",
    "        '''\n",
    "        Delete the node containing this value.\n",
    "        '''\n",
    "        # Empty list\n",
    "        if not self.head:\n",
    "            return False\n",
    "        \n",
    "        if self.head.value == value:\n",
    "            # Only one node in the list\n",
    "            if self.head == self.tail:\n",
    "                self.head = None\n",
    "                self.tail = None\n",
    "            else:\n",
    "                self.head = self.head.next\n",
    "            return True\n",
    "        else:\n",
    "            # Let's walk down the list until we find the value;\n",
    "            # or not (in which case value is not in list).\n",
    "            prev = self.head\n",
    "            node = self.head.next\n",
    "            while node:\n",
    "                if node.value == value:\n",
    "                    prev.next = node.next\n",
    "                    return True\n",
    "                prev = node\n",
    "                node = node.next\n",
    "        return False\n",
    "    \n",
    "    def traverse(self):\n",
    "        node = self.head\n",
    "        while node:\n",
    "            yield node.value\n",
    "            node = node.next\n",
    "            \n",
    "    def reverse_traverse(self):\n",
    "        current = self.tail\n",
    "        while current != self.head:\n",
    "            node = self.head\n",
    "            while node.next != current:\n",
    "                node = node.next\n",
    "            yield current.value\n",
    "            current = node\n",
    "        yield current.value\n",
    "                    \n",
    "    \n",
    "    def __repr__(self):\n",
    "        node = self.head\n",
    "        s = ''\n",
    "        while node:\n",
    "            s += str(node.value) + ' ⭢ '\n",
    "            node = node.next\n",
    "        s += '∅'\n",
    "        return s"
   ]
  },
  {
   "cell_type": "markdown",
   "metadata": {},
   "source": [
    "### Test constructor, `append` and `prepend`"
   ]
  },
  {
   "cell_type": "code",
   "execution_count": 12,
   "metadata": {},
   "outputs": [
    {
     "name": "stdout",
     "output_type": "stream",
     "text": [
      "∅\n",
      "0 ⭢ ∅\n",
      "0 ⭢ 1 ⭢ ∅\n",
      "0 ⭢ 1 ⭢ 2 ⭢ ∅\n",
      "0 ⭢ 1 ⭢ 2 ⭢ 3 ⭢ ∅\n",
      "0 ⭢ 1 ⭢ 2 ⭢ 3 ⭢ 4 ⭢ ∅\n",
      "10 ⭢ 0 ⭢ 1 ⭢ 2 ⭢ 3 ⭢ 4 ⭢ ∅\n",
      "11 ⭢ 10 ⭢ 0 ⭢ 1 ⭢ 2 ⭢ 3 ⭢ 4 ⭢ ∅\n",
      "12 ⭢ 11 ⭢ 10 ⭢ 0 ⭢ 1 ⭢ 2 ⭢ 3 ⭢ 4 ⭢ ∅\n",
      "13 ⭢ 12 ⭢ 11 ⭢ 10 ⭢ 0 ⭢ 1 ⭢ 2 ⭢ 3 ⭢ 4 ⭢ ∅\n",
      "14 ⭢ 13 ⭢ 12 ⭢ 11 ⭢ 10 ⭢ 0 ⭢ 1 ⭢ 2 ⭢ 3 ⭢ 4 ⭢ ∅\n"
     ]
    }
   ],
   "source": [
    "# Create a singly linked list\n",
    "# Append and prepend values, and print the list out\n",
    "sll = SinglyLinkedList()\n",
    "print(sll)\n",
    "for i in range(5):\n",
    "    sll.append(i)\n",
    "    print(sll)\n",
    "\n",
    "for i in range(10, 15):\n",
    "    sll.prepend(i)\n",
    "    print(sll)"
   ]
  },
  {
   "cell_type": "markdown",
   "metadata": {},
   "source": [
    "### Test `traverse` and `reverse_traverse` methods"
   ]
  },
  {
   "cell_type": "code",
   "execution_count": 13,
   "metadata": {},
   "outputs": [
    {
     "name": "stdout",
     "output_type": "stream",
     "text": [
      "[14, 13, 12, 11, 10, 0, 1, 2, 3, 4]\n",
      "[4, 3, 2, 1, 0, 10, 11, 12, 13, 14]\n"
     ]
    }
   ],
   "source": [
    "print([i for i in sll.traverse()])\n",
    "print([i for i in sll.reverse_traverse()])"
   ]
  },
  {
   "cell_type": "markdown",
   "metadata": {},
   "source": [
    "### Test `contains` method"
   ]
  },
  {
   "cell_type": "code",
   "execution_count": 14,
   "metadata": {},
   "outputs": [
    {
     "name": "stdout",
     "output_type": "stream",
     "text": [
      "List contains number  0 :  True\n",
      "List contains number  1 :  True\n",
      "List contains number  2 :  True\n",
      "List contains number  3 :  True\n",
      "List contains number  4 :  True\n",
      "List contains number  5 :  False\n",
      "List contains number  6 :  False\n",
      "List contains number  7 :  False\n",
      "List contains number  8 :  False\n",
      "List contains number  9 :  False\n",
      "List contains number  10 :  True\n",
      "List contains number  11 :  True\n",
      "List contains number  12 :  True\n",
      "List contains number  13 :  True\n",
      "List contains number  14 :  True\n",
      "List contains number  15 :  False\n",
      "List contains number  16 :  False\n"
     ]
    }
   ],
   "source": [
    "for i in range(17):\n",
    "    print('List contains number ', i, ': ', sll.contains(i))"
   ]
  },
  {
   "cell_type": "markdown",
   "metadata": {},
   "source": [
    "### Test `delete` method"
   ]
  },
  {
   "cell_type": "code",
   "execution_count": 5,
   "metadata": {},
   "outputs": [
    {
     "name": "stdout",
     "output_type": "stream",
     "text": [
      "False\n",
      "1 ⭢ ∅\n",
      "False\n",
      "1 ⭢ ∅\n",
      "True\n",
      "∅\n",
      "False\n"
     ]
    }
   ],
   "source": [
    "ssl = SinglyLinkedList()\n",
    "print(ssl.delete(4))\n",
    "ssl.append(1)\n",
    "print(ssl)\n",
    "print(ssl.delete(2))\n",
    "print(ssl)\n",
    "print(ssl.delete(1))\n",
    "print(ssl)\n",
    "print(ssl.delete('a'))"
   ]
  },
  {
   "cell_type": "code",
   "execution_count": 15,
   "metadata": {},
   "outputs": [
    {
     "name": "stdout",
     "output_type": "stream",
     "text": [
      "6 ⭢ 4 ⭢ 1 ⭢ 6 ⭢ 1 ⭢ 5 ⭢ 4 ⭢ 5 ⭢ ∅\n",
      "6 ⭢ 1 ⭢ 6 ⭢ 1 ⭢ 5 ⭢ 4 ⭢ 5 ⭢ ∅\n",
      "6 ⭢ 1 ⭢ 6 ⭢ 1 ⭢ 5 ⭢ 5 ⭢ ∅\n"
     ]
    }
   ],
   "source": [
    "ssl.append(4)\n",
    "ssl.prepend(1)\n",
    "ssl.prepend(4)\n",
    "ssl.append(5)\n",
    "ssl.prepend(6)\n",
    "print(ssl)\n",
    "ssl.delete(4)\n",
    "print(ssl)\n",
    "ssl.delete(4)\n",
    "print(ssl)"
   ]
  },
  {
   "cell_type": "code",
   "execution_count": null,
   "metadata": {},
   "outputs": [],
   "source": []
  }
 ],
 "metadata": {
  "kernelspec": {
   "display_name": "Python 3",
   "language": "python",
   "name": "python3"
  },
  "language_info": {
   "codemirror_mode": {
    "name": "ipython",
    "version": 3
   },
   "file_extension": ".py",
   "mimetype": "text/x-python",
   "name": "python",
   "nbconvert_exporter": "python",
   "pygments_lexer": "ipython3",
   "version": "3.5.6"
  }
 },
 "nbformat": 4,
 "nbformat_minor": 2
}
