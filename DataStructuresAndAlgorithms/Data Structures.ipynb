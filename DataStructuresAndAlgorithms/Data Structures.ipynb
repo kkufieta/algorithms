{
 "cells": [
  {
   "cell_type": "markdown",
   "metadata": {},
   "source": [
    "# Data Structures\n",
    "## Linked Lists\n",
    "I like to keep track of both the head and the tail in the list.\n",
    "\n",
    "| Insertion ${}^*$  | Deletion | Searching |\n",
    "|:----------:|:-------------:|:------:|\n",
    "| $O(1)$ |  $O(n)$ | $O(n)$ |\n",
    "\n",
    "${}^*$ Assuming we consider only inserting nodes at the head or tail of the linked list. Otherwise, insertion takes $O(n)$ time."
   ]
  },
  {
   "cell_type": "code",
   "execution_count": 1,
   "metadata": {},
   "outputs": [],
   "source": [
    "class Node:\n",
    "    def __init__(self, value):\n",
    "        self.value = value\n",
    "        self.next = None"
   ]
  },
  {
   "cell_type": "code",
   "execution_count": 35,
   "metadata": {},
   "outputs": [],
   "source": [
    "class SinglyLinkedList:\n",
    "    def __init__(self, value=None):\n",
    "        if value:\n",
    "            self.head = Node(value)\n",
    "        else:\n",
    "            self.head = None\n",
    "        self.tail = self.head\n",
    "    \n",
    "    def append(self, value):\n",
    "        '''\n",
    "        Add a value at the tail end of the linked list.\n",
    "        '''\n",
    "        node = Node(value)\n",
    "        if not self.head:\n",
    "            self.head = node\n",
    "            self.tail = self.head\n",
    "        else:\n",
    "            self.tail.next = node\n",
    "            self.tail = self.tail.next\n",
    "            \n",
    "    def prepend(self, value):\n",
    "        '''\n",
    "        Add a value to the head of a linked list.\n",
    "        '''\n",
    "        node = Node(value)\n",
    "        if not self.head:\n",
    "            self.head = node\n",
    "            self.tail = self.head\n",
    "        else:\n",
    "            node.next = self.head\n",
    "            self.head = node\n",
    "    \n",
    "    def __repr__(self):\n",
    "        node = self.head\n",
    "        s = ''\n",
    "        while node:\n",
    "            s += str(node.value) + ' ⭢ '\n",
    "            node = node.next\n",
    "        s += '∅'\n",
    "        return s"
   ]
  },
  {
   "cell_type": "code",
   "execution_count": 37,
   "metadata": {},
   "outputs": [
    {
     "name": "stdout",
     "output_type": "stream",
     "text": [
      "∅\n",
      "0 ⭢ ∅\n",
      "0 ⭢ 1 ⭢ ∅\n",
      "0 ⭢ 1 ⭢ 2 ⭢ ∅\n",
      "0 ⭢ 1 ⭢ 2 ⭢ 3 ⭢ ∅\n",
      "0 ⭢ 1 ⭢ 2 ⭢ 3 ⭢ 4 ⭢ ∅\n"
     ]
    }
   ],
   "source": [
    "sll = SinglyLinkedList()\n",
    "print(sll)\n",
    "for i in range(5):\n",
    "    sll.append(i)\n",
    "    print(sll)"
   ]
  },
  {
   "cell_type": "code",
   "execution_count": null,
   "metadata": {},
   "outputs": [],
   "source": []
  },
  {
   "cell_type": "code",
   "execution_count": null,
   "metadata": {},
   "outputs": [],
   "source": []
  }
 ],
 "metadata": {
  "kernelspec": {
   "display_name": "Python 3",
   "language": "python",
   "name": "python3"
  },
  "language_info": {
   "codemirror_mode": {
    "name": "ipython",
    "version": 3
   },
   "file_extension": ".py",
   "mimetype": "text/x-python",
   "name": "python",
   "nbconvert_exporter": "python",
   "pygments_lexer": "ipython3",
   "version": "3.5.6"
  }
 },
 "nbformat": 4,
 "nbformat_minor": 2
}
