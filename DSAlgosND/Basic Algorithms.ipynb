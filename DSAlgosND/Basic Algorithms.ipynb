{
 "cells": [
  {
   "cell_type": "markdown",
   "metadata": {},
   "source": [
    "# Basic Algorithms"
   ]
  },
  {
   "cell_type": "markdown",
   "metadata": {},
   "source": [
    "## Basic Algorithms"
   ]
  },
  {
   "cell_type": "markdown",
   "metadata": {},
   "source": [
    "### Binary Search"
   ]
  },
  {
   "cell_type": "markdown",
   "metadata": {},
   "source": [
    "### Efficiency of Binary Search"
   ]
  },
  {
   "cell_type": "markdown",
   "metadata": {},
   "source": [
    "### Binary Search Variation"
   ]
  },
  {
   "cell_type": "markdown",
   "metadata": {},
   "source": [
    "### Binary Search: First & last indexes"
   ]
  },
  {
   "cell_type": "markdown",
   "metadata": {},
   "source": [
    "### Tries"
   ]
  },
  {
   "cell_type": "markdown",
   "metadata": {},
   "source": [
    "### Heaps\n",
    "\n",
    "A heap is a specific type of tree with some of its own additional rules. In a heap, elements are arranged in increasing or decreasing order, such that the root element is either the maximum or minimum value in the tree. There are two different types of heaps. Max heaps & min heaps that capture those two situations. \n",
    "\n",
    "In a max heap, a parent must always have a greater value than its child so the root ends up being the biggest element. \n",
    "\n",
    "The opposite is true for min heaps: A parent has a lower value than its child, so the root is the minimum element. \n",
    "\n",
    "Heaps don't need to be binary trees, so parents can have any number of children. Operations like search, insert, and delete can vary a lot based on the type of heap being used. \n",
    "\n",
    "### Max Binary Heap & Heapify\n",
    "* Two children only\n",
    "* The root is the maximum element\n",
    "* Must be a complete tree:\n",
    "  * All levels except the last one are completely full\n",
    "  * If the last level isn't totally full, values are added from left to right. The right most leaf will be empty until the whole row has been filled. \n",
    "* Peek(): Gets the maximum value. $O(1)$\n",
    "* Search: $O(N)$\n",
    "  * Use max heap properties to our advantage: if the element we're searching for is bigger than the root, we can quit searching. This reduces the runtime in the average case to $O(N/2)$\n",
    "* Insert: $O(log(N))$ (i.e. the height of the tree)\n",
    "  * Stick the element into the next open spot in the tree.\n",
    "  * Heapify: Reorder the tree based on the heap property.\n",
    "    * Since we care that our parent element is bigger than its child, we just need to keep comparing our new element with its parent and swapping them when the child is bigger. \n",
    "* Extract: $O(log(N))$ (i.e. the height of the tree)\n",
    "  * The root is remove from the tree\n",
    "  * Stick the right-most leaf into the root spot, then compare it to its children and swap where necessary"
   ]
  },
  {
   "cell_type": "markdown",
   "metadata": {},
   "source": [
    "### Heap Implementation\n",
    "Though heaps are represented as trees, they're actually often stored as arrays. That's because we know how many children its parent has, and thus how many nodes will be at each level, we can use math to figure out where the next node will fall in the array and then traverse the tree. \n",
    "\n",
    "Storing the data in an array will save us space. We just need to store the value at the right index. \n",
    "\n",
    "If we were to create a Node data structure, we'd need to store values and a bunch of pointers for every element. "
   ]
  },
  {
   "cell_type": "markdown",
   "metadata": {},
   "source": [
    "### Heaps Exercise"
   ]
  },
  {
   "attachments": {},
   "cell_type": "markdown",
   "metadata": {},
   "source": [
    "## Self-Balancing Tree\n",
    "A balanced tree has nodes condensed to as few levels as possible. A self-balancing tree is one that tries to minimize the number of levels that it uses. It uses algorithms during insertion & deletion to keep itself balanced, and the nodes themselves might have some additional properties. \n",
    "\n",
    "### Red-Black Tree\n",
    "The Red-Black Tree is an extension of a binary search tree. \n",
    "\n",
    "Properties of a Red-Black Tree:\n",
    "1. Nodes are assigned an additional color property, where the values must be either red or black. The colors red & black are just a convention - we really just need a way to distinguish two types of nodes. \n",
    "2. Null Leaf Nodes: Every node in the tree that doesn't otherwise have two children must have null children. All Null Leaf Nodes must be colored black. \n",
    "3. If a node is red, both of its children must be black. \n",
    "4. Optional rule: The root node must be black.\n",
    "5. Every path from a node to its descendant null nodes must contain the same number of black nodes. \n"
   ]
  },
  {
   "cell_type": "markdown",
   "metadata": {},
   "source": [
    "### Red-Black Tree Insertion"
   ]
  },
  {
   "cell_type": "markdown",
   "metadata": {},
   "source": [
    "### Tree Rotations"
   ]
  },
  {
   "cell_type": "markdown",
   "metadata": {},
   "source": [
    "### Build a Red-Black Tree"
   ]
  },
  {
   "cell_type": "markdown",
   "metadata": {},
   "source": [
    "## Sorting Algorithms"
   ]
  },
  {
   "cell_type": "markdown",
   "metadata": {},
   "source": [
    "### Bubble Sort"
   ]
  },
  {
   "cell_type": "markdown",
   "metadata": {},
   "source": [
    "### Merge Sort"
   ]
  },
  {
   "cell_type": "markdown",
   "metadata": {},
   "source": [
    "### Merge Sort: Counting Inversions"
   ]
  },
  {
   "cell_type": "markdown",
   "metadata": {},
   "source": [
    "### Case Specific Sorting of Strings"
   ]
  },
  {
   "cell_type": "markdown",
   "metadata": {},
   "source": [
    "### Quicksort"
   ]
  },
  {
   "cell_type": "markdown",
   "metadata": {},
   "source": [
    "### Heapsort"
   ]
  },
  {
   "cell_type": "markdown",
   "metadata": {},
   "source": [
    "### Pair Sum"
   ]
  },
  {
   "cell_type": "markdown",
   "metadata": {},
   "source": [
    "### Sort 0, 1, 2"
   ]
  },
  {
   "cell_type": "markdown",
   "metadata": {},
   "source": [
    "## Faster Divide & Conquer Algorithms"
   ]
  },
  {
   "cell_type": "markdown",
   "metadata": {},
   "source": [
    "### Divide & Conquer"
   ]
  },
  {
   "cell_type": "markdown",
   "metadata": {},
   "source": [
    "### Median Problem"
   ]
  },
  {
   "cell_type": "markdown",
   "metadata": {},
   "source": [
    "### Basic Approach"
   ]
  },
  {
   "cell_type": "markdown",
   "metadata": {},
   "source": [
    "### Search Example"
   ]
  },
  {
   "cell_type": "markdown",
   "metadata": {},
   "source": [
    "### D&C: High Level"
   ]
  },
  {
   "cell_type": "markdown",
   "metadata": {},
   "source": [
    "### D&C: Recursive Pivot"
   ]
  },
  {
   "cell_type": "markdown",
   "metadata": {},
   "source": [
    "### Median: Pseudocode"
   ]
  },
  {
   "cell_type": "markdown",
   "metadata": {},
   "source": [
    "### Median Running Time"
   ]
  },
  {
   "cell_type": "markdown",
   "metadata": {},
   "source": [
    "## Practice Problems"
   ]
  },
  {
   "cell_type": "markdown",
   "metadata": {},
   "source": [
    "### Square Root of an Integer"
   ]
  },
  {
   "cell_type": "markdown",
   "metadata": {},
   "source": [
    "### Search in a Rotated Sorted Array"
   ]
  },
  {
   "cell_type": "markdown",
   "metadata": {},
   "source": [
    "### Rearrange Array Digits"
   ]
  },
  {
   "cell_type": "markdown",
   "metadata": {},
   "source": [
    "### Dutch National Flag Problem"
   ]
  },
  {
   "cell_type": "markdown",
   "metadata": {},
   "source": [
    "### Autocomplete with Tries"
   ]
  },
  {
   "cell_type": "markdown",
   "metadata": {},
   "source": [
    "### Unsorted Integer Array"
   ]
  },
  {
   "cell_type": "markdown",
   "metadata": {},
   "source": [
    "### Request Routing in a Web Server with a Trie"
   ]
  },
  {
   "cell_type": "code",
   "execution_count": null,
   "metadata": {},
   "outputs": [],
   "source": []
  }
 ],
 "metadata": {
  "kernelspec": {
   "display_name": "Python 3",
   "language": "python",
   "name": "python3"
  },
  "language_info": {
   "codemirror_mode": {
    "name": "ipython",
    "version": 3
   },
   "file_extension": ".py",
   "mimetype": "text/x-python",
   "name": "python",
   "nbconvert_exporter": "python",
   "pygments_lexer": "ipython3",
   "version": "3.5.6"
  }
 },
 "nbformat": 4,
 "nbformat_minor": 2
}
