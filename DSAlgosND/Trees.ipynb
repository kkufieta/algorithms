{
 "cells": [
  {
   "cell_type": "markdown",
   "metadata": {},
   "source": [
    "# Trees"
   ]
  },
  {
   "cell_type": "markdown",
   "metadata": {},
   "source": [
    "## Basics\n",
    "* A tree is an extension of a linked list \n",
    "* Root: First element\n",
    "* Nodes: Individual elements in a tree that contain values\n",
    "\n",
    "Tree:\n",
    "* Must be completely connected: If you're starting from the root, there must be _some_ way to reach every node in the tree\n",
    "* Must not have any cycles\n"
   ]
  },
  {
   "cell_type": "markdown",
   "metadata": {},
   "source": [
    "## Terminology\n",
    "\n",
    "* Levels:\n",
    "  * How many connections does it take to reach the root + 1\n",
    "  * Root: Level 1\n",
    "  * Nodes directly connected to root: Level 2\n",
    "* Nodes in a tree are often described as having a parent child relationship.\n",
    "  * Ancestor & Descendant:\n",
    "    * A node at a lower level can be called an ancestor of a node at a higher level which is the descendant\n",
    "  * Parent, Child, Siblings\n",
    "  * Leaves / External nodes:\n",
    "    * Nodes at the end that don't have any children\n",
    "  * Parent Node:\n",
    "    * Internal Node\n",
    "* Connections <-> Edges\n",
    "* Group of connections -> Path\n",
    "* Height of a node: number of edges between it and the furthest leaf on the tree\n",
    "  * Leaf: Height zero\n",
    "  * Parent of a leaf: Height one\n",
    "  * Height of tree: Height of root node\n",
    "* Depth of node: number of edges to the root\n",
    "  * Height & Depth should move inversely"
   ]
  },
  {
   "cell_type": "markdown",
   "metadata": {},
   "source": [
    "## Traversal\n",
    "* Depth-First-Search (DFS)\n",
    "* Breadth-First-Search (BFS)\n",
    "\n",
    "BFS & DFS are kind of vaguely defined since we can apply their priciples but actually traverse the tree in several different ways.\n",
    "\n",
    "### Level-order traversal\n",
    "For trees, a level order traversal is a BFS with a more exact algorithm to implement:\n",
    "* Start at the root\n",
    "* Visit its children on the second level, and then all of their children on the third level until all leafes are visited.\n",
    "\n",
    "Convention: Start on the left-most side of the level and move right."
   ]
  },
  {
   "cell_type": "markdown",
   "metadata": {},
   "source": [
    "## Depth-First Traversals\n",
    "\n",
    "### Pre-order traversal\n",
    "\"Pre\": Check off a node as soon as you see it before traversing any further in the tree.\n",
    "\n",
    "### In-order traversal\n",
    "Check off a node when we've seen its left child and come back to it.\n",
    "\n",
    "### Post-order traversal\n",
    "Check off a node when we've seen all of its descendants (= we visited both of its children)."
   ]
  },
  {
   "cell_type": "markdown",
   "metadata": {},
   "source": [
    "## Binary Tree: Search, delete, insert\n",
    "Binary trees: Trees where parents have at most two children\n",
    "* Search: $O(N)$\n",
    "* Delete: $O(N)$\n",
    "* Insert: $O(N)$"
   ]
  },
  {
   "cell_type": "markdown",
   "metadata": {},
   "source": [
    "## Binary Search Trees (BST)\n",
    "A BST is a type of binary tree. BSTs are sorted:\n",
    "* Every value on the left of a node is smaller than it.\n",
    "* Every value on the right of a node is larger than it.\n",
    "\n",
    "This speeds up search, delete, and insert (if the tree is balanced):\n",
    "* Search: $O(log(N))$\n",
    "* Delete: $O(log(N))$\n",
    "* Insert: $O(log(N))$"
   ]
  },
  {
   "cell_type": "markdown",
   "metadata": {},
   "source": [
    "## BST Complications\n",
    "Problem: A BST can be unbalanced, which increases the runtime for search, delete, and insert to $O(N)$."
   ]
  },
  {
   "cell_type": "markdown",
   "metadata": {},
   "source": [
    "## Trees in Practice\n",
    "* Trees are used in software engineering\n",
    "* They speed up data retrieval\n",
    "* Three-based machine learning models (e.g. decision trees)"
   ]
  },
  {
   "cell_type": "markdown",
   "metadata": {},
   "source": [
    "## Code: Create a Binary Tree\n",
    "There are videos & jupyter notebooks that walk me through:\n",
    "* Create a Binary Tree\n",
    "* DFS\n",
    "* BFS\n",
    "* BST\n",
    "\n",
    "I've downloaded the videos in case I need to refer to them later on."
   ]
  },
  {
   "cell_type": "code",
   "execution_count": null,
   "metadata": {},
   "outputs": [],
   "source": []
  }
 ],
 "metadata": {
  "kernelspec": {
   "display_name": "Python 3",
   "language": "python",
   "name": "python3"
  },
  "language_info": {
   "codemirror_mode": {
    "name": "ipython",
    "version": 3
   },
   "file_extension": ".py",
   "mimetype": "text/x-python",
   "name": "python",
   "nbconvert_exporter": "python",
   "pygments_lexer": "ipython3",
   "version": "3.5.6"
  }
 },
 "nbformat": 4,
 "nbformat_minor": 2
}
